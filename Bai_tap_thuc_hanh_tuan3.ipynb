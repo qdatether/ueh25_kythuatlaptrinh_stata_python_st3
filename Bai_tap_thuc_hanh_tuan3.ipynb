{
  "nbformat": 4,
  "nbformat_minor": 0,
  "metadata": {
    "colab": {
      "provenance": [],
      "authorship_tag": "ABX9TyPIeHCSZ6zs85yC7jjr0GEo",
      "include_colab_link": true
    },
    "kernelspec": {
      "name": "python3",
      "display_name": "Python 3"
    },
    "language_info": {
      "name": "python"
    }
  },
  "cells": [
    {
      "cell_type": "markdown",
      "metadata": {
        "id": "view-in-github",
        "colab_type": "text"
      },
      "source": [
        "<a href=\"https://colab.research.google.com/github/qdatether/Bai_tap/blob/main/Bai_tap_thuc_hanh_tuan3.ipynb\" target=\"_parent\"><img src=\"https://colab.research.google.com/assets/colab-badge.svg\" alt=\"Open In Colab\"/></a>"
      ]
    },
    {
      "cell_type": "markdown",
      "source": [
        "## Bài tập mẫu"
      ],
      "metadata": {
        "id": "f-20y-Ha4_8t"
      }
    },
    {
      "cell_type": "markdown",
      "source": [
        "## Bài 1. In chuỗi"
      ],
      "metadata": {
        "id": "lURF_hr_3n7Q"
      }
    },
    {
      "cell_type": "code",
      "source": [
        "print(\"Whoever is happy will make others happy too\")\n",
        "print(\"--Anne Frank\")"
      ],
      "metadata": {
        "colab": {
          "base_uri": "https://localhost:8080/"
        },
        "id": "Z_uDJyRk3fay",
        "outputId": "5ee44c5b-b7e9-4c3d-9894-6080ccd0e1ef"
      },
      "execution_count": 13,
      "outputs": [
        {
          "output_type": "stream",
          "name": "stdout",
          "text": [
            "Whoever is happy will make others happy too\n",
            "--Anne Frank\n"
          ]
        }
      ]
    },
    {
      "cell_type": "markdown",
      "source": [
        "## Bài 2. Biểu thức tính toán"
      ],
      "metadata": {
        "id": "Kakq0KaO3yOM"
      }
    },
    {
      "cell_type": "code",
      "source": [
        "# Nhap du lieu\n",
        "a = int(input(\"Nhap so a: \"))\n",
        "b = int(input(\"Nhap so b: \"))\n",
        "\n",
        "# Phep tinh\n",
        "Cong = a + b\n",
        "Tru = a - b\n",
        "Nhan = a * b\n",
        "Chia_Nguyen = a // b\n",
        "Du= a % b\n",
        "Chia_Thuc = a / b\n",
        "\n",
        "# In ket qua\n",
        "print(\"Cac ket qua tinh toan: \")\n",
        "print(\"%-5d + %5d = %5d\"%(a, b, Cong))\n",
        "print(\"%-5d - %5d = %5d\"%(a, b, Tru))\n",
        "print(\"%-5d * %5d = %5d\"%(a, b, Nhan))\n",
        "print(\"%-5d / %5d = %5d\"%(a, b, Chia_Nguyen))\n",
        "print(\"%-5d / %5d = %5d\"%(a, b, Du))\n",
        "print(\"%-5d / %5d = %5.2f\"%(a, b, Chia_Thuc))"
      ],
      "metadata": {
        "colab": {
          "base_uri": "https://localhost:8080/"
        },
        "id": "JMYqViRT303T",
        "outputId": "1c81f4c1-61d4-4d07-a3ef-e4ac8d5a8591"
      },
      "execution_count": 14,
      "outputs": [
        {
          "output_type": "stream",
          "name": "stdout",
          "text": [
            "Nhap so a: 5\n",
            "Nhap so b: 6\n",
            "Cac ket qua tinh toan: \n",
            "5     +     6 =    11\n",
            "5     -     6 =    -1\n",
            "5     *     6 =    30\n",
            "5     /     6 =     0\n",
            "5     /     6 =     5\n",
            "5     /     6 =  0.83\n"
          ]
        }
      ]
    },
    {
      "cell_type": "markdown",
      "source": [
        "## Bài 3. Biểu thức so sánh"
      ],
      "metadata": {
        "id": "V1EX4gs04Jyr"
      }
    },
    {
      "cell_type": "code",
      "source": [
        "# Nhap du lieu\n",
        "a = float(input(\"Nhap so a: \"))\n",
        "b = float(input(\"Nhap so b: \"))\n",
        "\n",
        "# Phep tinh\n",
        "NhoHon = (a < b)\n",
        "NhoHonBang = (a <= b)\n",
        "LonHon = (a > b)\n",
        "LonHonBang = (a >= b)\n",
        "Bang = (a == b)\n",
        "KhacNhau = (a != b)\n",
        "# In ket qua\n",
        "print(\"Ket qua so sanh hai so thuc %.2f va %.2f:\" % (a, b))\n",
        "print(\"%-8.2f < %8.2f: %8s\" % (a, b, NhoHon))\n",
        "print(\"%-8.2f <= %8.2f: %8s\" % (a, b, NhoHonBang))\n",
        "print(\"%-8.2f > %8.2f: %8s\" % (a, b, LonHon))\n",
        "print(\"%-8.2f >= %8.2f: %8s\" % (a, b, LonHonBang))\n",
        "print(\"%-8.2f == %8.2f: %8s\" % (a, b, Bang))\n",
        "print(\"%-8.2f != %8.2f: %8s\" % (a, b, KhacNhau))"
      ],
      "metadata": {
        "colab": {
          "base_uri": "https://localhost:8080/"
        },
        "id": "8Gkl_cHP4Mo5",
        "outputId": "92a5d77b-82dc-4308-93dc-b3e4512a928b"
      },
      "execution_count": 15,
      "outputs": [
        {
          "output_type": "stream",
          "name": "stdout",
          "text": [
            "Nhap so a: 2.5\n",
            "Nhap so b: 6.8\n",
            "Ket qua so sanh hai so thuc 2.50 va 6.80:\n",
            "2.50     <     6.80:     True\n",
            "2.50     <=     6.80:     True\n",
            "2.50     >     6.80:    False\n",
            "2.50     >=     6.80:    False\n",
            "2.50     ==     6.80:    False\n",
            "2.50     !=     6.80:     True\n"
          ]
        }
      ]
    },
    {
      "cell_type": "markdown",
      "source": [
        "## Bài 4. Tính giá trị hàm số"
      ],
      "metadata": {
        "id": "DYK3CAId4kyB"
      }
    },
    {
      "cell_type": "code",
      "source": [
        "# Thu vien\n",
        "import math\n",
        "\n",
        "# Nhap du lieu\n",
        "x = float(input(\"Nhap vao gia tri cua bien so x: \"))\n",
        "\n",
        "# Phep tinh\n",
        "fx = x + math.pow(x, 5) / (1 * 2 * 3 * 4 * 5) + \\\n",
        "math.sqrt(abs(x)) / math.pow(x, 3.0 / 2)\n",
        "\n",
        "# In ket qua\n",
        "print(\"Gia tri cua ham so f(%.2f) = %.2f.\"%(x, fx))"
      ],
      "metadata": {
        "colab": {
          "base_uri": "https://localhost:8080/"
        },
        "id": "u87MhiBr4ymh",
        "outputId": "e8bff317-dc66-49bb-fd65-1ff0aff7dfdd"
      },
      "execution_count": 16,
      "outputs": [
        {
          "output_type": "stream",
          "name": "stdout",
          "text": [
            "Nhap vao gia tri cua bien so x: 2.3\n",
            "Gia tri cua ham so f(2.30) = 3.27.\n"
          ]
        }
      ]
    },
    {
      "cell_type": "markdown",
      "source": [
        "## Bài 5. Tổng chữ số"
      ],
      "metadata": {
        "id": "eFGOIn-a5M4j"
      }
    },
    {
      "cell_type": "code",
      "source": [
        "# Nhap du lieu\n",
        "n = int(input(\"Nhap so nguyen 4 chu so: \"))\n",
        "\n",
        "# Kiem tra dieu kien va xuat ket qua\n",
        "if 1000 <= abs(n) <= 9999:\n",
        "    tong = 0\n",
        "    for i in str(abs(n)):\n",
        "        tong += int(i)\n",
        "    print(\"Tong cac chu so cua\", n, \"la\", tong)\n",
        "else:\n",
        "    print(\"Vui long nhap so nguyen co 4 chu so\")"
      ],
      "metadata": {
        "colab": {
          "base_uri": "https://localhost:8080/"
        },
        "id": "PWU-e5RF5QDZ",
        "outputId": "122f1774-7ae6-4437-c212-40999da5dd7f"
      },
      "execution_count": 17,
      "outputs": [
        {
          "output_type": "stream",
          "name": "stdout",
          "text": [
            "Nhap so nguyen 4 chu so: 1234\n",
            "Tong cac chu so cua 1234 la 10\n"
          ]
        }
      ]
    },
    {
      "cell_type": "markdown",
      "source": [
        "## Bài tập thực hành"
      ],
      "metadata": {
        "id": "_tZz8GyB7jPL"
      }
    },
    {
      "cell_type": "markdown",
      "source": [
        "### Bài 1. In nhãn"
      ],
      "metadata": {
        "id": "JzMWkTYZ7nH1"
      }
    },
    {
      "cell_type": "code",
      "source": [
        "print(\"**************************\")\n",
        "print(\"* Truong: Dai Hoc UEH    *\")\n",
        "print(\"* Khoa: CNTT             *\")\n",
        "print(\"* Ho ten:                *\")\n",
        "print(\"**************************\")"
      ],
      "metadata": {
        "colab": {
          "base_uri": "https://localhost:8080/"
        },
        "id": "Sdb1ltid5Aa8",
        "outputId": "9ad0ce4f-ce97-4bc9-acb7-d16a944e043c"
      },
      "execution_count": 18,
      "outputs": [
        {
          "output_type": "stream",
          "name": "stdout",
          "text": [
            "**************************\n",
            "* Truong: Dai Hoc UEH    *\n",
            "* Khoa: CNTT             *\n",
            "* Ho ten:                *\n",
            "**************************\n"
          ]
        }
      ]
    },
    {
      "cell_type": "markdown",
      "source": [
        "### Bài 2. Tính diện tích và chu vi hình tròn\n"
      ],
      "metadata": {
        "id": "LWUzkdPn7_wD"
      }
    },
    {
      "cell_type": "code",
      "source": [
        "# Nhap du lieu\n",
        "r = int(input(\"Nhap ban kinh R: \"))\n",
        "\n",
        "# Gan bien\n",
        "pi = 3.14\n",
        "\n",
        "# In ra ket qua\n",
        "print(\"Dien tich S = \", pi * r ** 2)\n",
        "print(\"Chu_vi P = \", round(2 * pi * r, 1))"
      ],
      "metadata": {
        "colab": {
          "base_uri": "https://localhost:8080/"
        },
        "id": "ZqjwbvSj6jOU",
        "outputId": "b78ac1ad-6fa9-4a03-dbd8-2c2d9061afa9"
      },
      "execution_count": 19,
      "outputs": [
        {
          "output_type": "stream",
          "name": "stdout",
          "text": [
            "Nhap ban kinh R: 5\n",
            "Dien tich S =  78.5\n",
            "Chu_vi P =  31.4\n"
          ]
        }
      ]
    },
    {
      "cell_type": "markdown",
      "source": [
        "### Bài 3. Đổi sang giây\n"
      ],
      "metadata": {
        "id": "csNcpZ5L8Htm"
      }
    },
    {
      "cell_type": "code",
      "source": [
        "# Nhap du lieu\n",
        "h = int(input(\"Nhap so gio: \"))\n",
        "s = int(input(\"Nhap so giay: \"))\n",
        "m = int(input(\"Nhap so phut: \"))\n",
        "\n",
        "# Chuyen doi\n",
        "hours_giay = h * 3600\n",
        "minute_giay = m * 60\n",
        "tong_so_giay = hours_giay + minute_giay + s\n",
        "\n",
        "# In ra ket qua\n",
        "print(\"Tong so giay cua \" + str(h) + \":\" + str(m) + \":\" + str(s) + \" la \" + str(tong_so_giay) + \" giay\")"
      ],
      "metadata": {
        "colab": {
          "base_uri": "https://localhost:8080/"
        },
        "id": "a_m6Qs_w8UhV",
        "outputId": "ceea4d8a-bc5b-4e7b-9f0a-01f6067c1ae6"
      },
      "execution_count": 30,
      "outputs": [
        {
          "output_type": "stream",
          "name": "stdout",
          "text": [
            "Nhap so gio: 1\n",
            "Nhap so giay: 10\n",
            "Nhap so phut: 20\n",
            "Tong so giay cua 1:20:10 la 4810 giay\n"
          ]
        }
      ]
    },
    {
      "cell_type": "markdown",
      "source": [
        "### Bài 4. Đổi sang giờ phút giây\n"
      ],
      "metadata": {
        "id": "Ve4ltjfn8L-S"
      }
    },
    {
      "cell_type": "code",
      "source": [
        "# Nhap du lieu\n",
        "so_giay = int(input(\"Nhap vao tong so giay \"))\n",
        "\n",
        "#Phep tinh\n",
        "h = so_giay // 3600\n",
        "m = (so_giay % 3600) // 60\n",
        "s = (so_giay % 3600) % 60\n",
        "\n",
        "print(str(so_giay) + \" giay co dang \" + str(h) + \":\" + str(m) + \":\" + str(s))"
      ],
      "metadata": {
        "colab": {
          "base_uri": "https://localhost:8080/"
        },
        "id": "kjBp7vzCCPpb",
        "outputId": "39582aae-d958-486f-a57b-4ef7b045cdc3"
      },
      "execution_count": 21,
      "outputs": [
        {
          "output_type": "stream",
          "name": "stdout",
          "text": [
            "Nhap vao tong so giay 4810\n",
            "4810 giay co dang 1:20:10\n"
          ]
        }
      ]
    },
    {
      "cell_type": "markdown",
      "source": [
        "### Bài 5. Tính diện tích tam giác\n"
      ],
      "metadata": {
        "id": "BwTld1iS8Pj-"
      }
    },
    {
      "cell_type": "code",
      "source": [
        "# Nhap du lieu\n",
        "a = float(input(\"Nhap do dai canh a: \"))\n",
        "b = float(input(\"Nhap do dai canh b: \"))\n",
        "c = float(input(\"Nhap do dai canh c: \"))\n",
        "\n",
        "#Phep tinh\n",
        "p = (a + b +c) / 2\n",
        "S = (p * (p - a) * (p - b) * (p - c)) ** 0.5\n",
        "\n",
        "#In ket qua\n",
        "print(\"Dien tich tam giac S =\", round(S, 2))"
      ],
      "metadata": {
        "colab": {
          "base_uri": "https://localhost:8080/"
        },
        "id": "W6DG2ybGG_0R",
        "outputId": "743a17d6-e4c0-4b32-f771-d3c7eddcdbee"
      },
      "execution_count": 22,
      "outputs": [
        {
          "output_type": "stream",
          "name": "stdout",
          "text": [
            "Nhap do dai canh a: 2\n",
            "Nhap do dai canh b: 4\n",
            "Nhap do dai canh c: 3\n",
            "Dien tich tam giac S = 2.9\n"
          ]
        }
      ]
    },
    {
      "cell_type": "markdown",
      "source": [
        "### Bài 6. Hàm mũ\n"
      ],
      "metadata": {
        "id": "Xyl8kyF48Tlg"
      }
    },
    {
      "cell_type": "code",
      "source": [
        "# Nhap du lieu\n",
        "a = float(input(\"Nhap so thuc a: \"))\n",
        "n = int(input(\"Nhap so mu n: \"))\n",
        "\n",
        "# In ket qua\n",
        "print(\"Ket qua 2^4 =\", round(a ** n))"
      ],
      "metadata": {
        "colab": {
          "base_uri": "https://localhost:8080/"
        },
        "id": "GLh6xwrFLHuo",
        "outputId": "6c68fa22-fbca-48e3-c8ec-87e9c94a3fe2"
      },
      "execution_count": 23,
      "outputs": [
        {
          "output_type": "stream",
          "name": "stdout",
          "text": [
            "Nhap so thuc a: 2\n",
            "Nhap so mu n: 4\n",
            "Ket qua 2^4 = 16\n"
          ]
        }
      ]
    },
    {
      "cell_type": "markdown",
      "source": [
        "### Bài 7. Đảo số\n"
      ],
      "metadata": {
        "id": "9eHSzRkH8XTV"
      }
    },
    {
      "cell_type": "code",
      "source": [
        "# Nhap du lieu\n",
        "x = int(input(\"x = \"))\n",
        "y = int(str(x)[::-1])\n",
        "\n",
        "# In ket qua\n",
        "print(\"Thu tu thay doi cua x\", x, \"la\", y)"
      ],
      "metadata": {
        "colab": {
          "base_uri": "https://localhost:8080/"
        },
        "id": "lb7i7nUOL6cK",
        "outputId": "915c1459-e489-44bc-e3ef-b838a2819126"
      },
      "execution_count": 24,
      "outputs": [
        {
          "output_type": "stream",
          "name": "stdout",
          "text": [
            "x = 1234\n",
            "Thu tu thay doi cua x 1234 la 4321\n"
          ]
        }
      ]
    },
    {
      "cell_type": "markdown",
      "source": [
        "### Bài 8. Độ sang radion\n"
      ],
      "metadata": {
        "id": "xCXtfPha8baO"
      }
    },
    {
      "cell_type": "code",
      "source": [
        "# Nhap du lieu\n",
        "degree = float(input(\"Nhap goc (do): \"))\n",
        "\n",
        "# Gan bien\n",
        "pi = 3.141592653589793\n",
        "radian = degree * (pi / 180)\n",
        "\n",
        "# In ket qua\n",
        "print(\"Goc\", degree, \"do =\", round(radian, 2), \"radian\")"
      ],
      "metadata": {
        "colab": {
          "base_uri": "https://localhost:8080/"
        },
        "id": "cL2zR88yNIZi",
        "outputId": "178052f5-db25-443a-9347-7b949abecb19"
      },
      "execution_count": 25,
      "outputs": [
        {
          "output_type": "stream",
          "name": "stdout",
          "text": [
            "Nhap goc (do): 50\n",
            "Goc 50.0 do = 0.87 radian\n"
          ]
        }
      ]
    },
    {
      "cell_type": "markdown",
      "source": [
        "### Bài 9. Hàm số 1\n"
      ],
      "metadata": {
        "id": "CUMsEhg68e90"
      }
    },
    {
      "cell_type": "code",
      "source": [
        "# Thu vien\n",
        "import math\n",
        "\n",
        "# Nhap du lieu\n",
        "x = float(input(\"x = \"))\n",
        "\n",
        "# Dieu kien va phep tinh\n",
        "if x < 0:\n",
        "    print(\"x phai >= 0 de y1, y2 co gia tri thuc\")\n",
        "else:\n",
        "  y1 = 4 * (x**2 + 10*x*math.sqrt(x) + 3*x + 1)\n",
        "  y2 = (math.sin(math.pi * x**2) + math.sqrt(x**2 + 1)) / (math.exp(2*x) + math.cos((math.pi/4)*x))\n",
        "\n",
        "  # In ket qua\n",
        "  print(\"y1 =\", round(y1, 2))\n",
        "  print(\"y2 =\", round(y2, 2))"
      ],
      "metadata": {
        "colab": {
          "base_uri": "https://localhost:8080/"
        },
        "id": "2XhZji3qPKGO",
        "outputId": "230a1736-8216-4338-8076-600fc657e323"
      },
      "execution_count": 26,
      "outputs": [
        {
          "output_type": "stream",
          "name": "stdout",
          "text": [
            "x = 40\n",
            "y1 = 17003.29\n",
            "y2 = 0.0\n"
          ]
        }
      ]
    },
    {
      "cell_type": "markdown",
      "source": [
        "### Bài 10. Khoảng cách\n"
      ],
      "metadata": {
        "id": "z29EBqgr8iPh"
      }
    },
    {
      "cell_type": "code",
      "source": [
        "# Dua thu vien\n",
        "import math\n",
        "\n",
        "# Nhap du lieu\n",
        "x1 = float(input(\"Nhap x1: \"))\n",
        "y1 = float(input(\"Nhap y1: \"))\n",
        "x2 = float(input(\"Nhap x2: \"))\n",
        "y2 = float(input(\"Nhap y2: \"))\n",
        "\n",
        "# Phep tinh\n",
        "d = math.sqrt((x2 - x1)**2 + (y2 - y1)**2)\n",
        "\n",
        "# In du lieu\n",
        "print(\"Khoang cach cua AB =\", round(d, 2))"
      ],
      "metadata": {
        "colab": {
          "base_uri": "https://localhost:8080/"
        },
        "id": "JYyVD-rQQz00",
        "outputId": "eab6e91b-2d72-4154-83db-b97427d4dce7"
      },
      "execution_count": 27,
      "outputs": [
        {
          "output_type": "stream",
          "name": "stdout",
          "text": [
            "Nhap x1: 50\n",
            "Nhap y1: 89\n",
            "Nhap x2: 40\n",
            "Nhap y2: 50\n",
            "Khoang cach cua AB = 40.26\n"
          ]
        }
      ]
    }
  ]
}