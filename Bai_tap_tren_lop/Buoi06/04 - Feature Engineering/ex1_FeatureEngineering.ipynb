{
 "cells": [
  {
   "cell_type": "markdown",
   "metadata": {
    "id": "oywaxxFTGg1x"
   },
   "source": [
    "\n",
    "# Tutorial 7a: Feature Construction\n",
    "\n",
    "----"
   ]
  },
  {
   "cell_type": "markdown",
   "metadata": {
    "id": "dXMT-z2grpXQ"
   },
   "source": [
    "## transformers\n",
    "These tasks are done using **transformers**\n",
    "\n",
    "sklearn's \"transformer\" is used for this, the main methods being:\n",
    "- transformer.fit()\n",
    "- transformer.transform()\n",
    "- transformer.fit_transform()\n",
    "\n",
    "Note that the analysis and fitting(training) is based only on the train dataset. After that, the learned transformations are applied to the test data.\n"
   ]
  },
  {
   "cell_type": "code",
   "execution_count": 3,
   "metadata": {
    "id": "kq7u4kOBWz31"
   },
   "outputs": [],
   "source": [
    "import pandas as pd\n",
    "import matplotlib.pyplot as plt\n",
    "import seaborn as sns\n",
    "import numpy as np"
   ]
  },
  {
   "cell_type": "markdown",
   "metadata": {
    "id": "0a1UFX8zXEaQ"
   },
   "source": [
    "## Load the dataset"
   ]
  },
  {
   "cell_type": "code",
   "execution_count": 4,
   "metadata": {
    "colab": {
     "base_uri": "https://localhost:8080/",
     "height": 206
    },
    "id": "JTxGTqSaXH_9",
    "outputId": "bd65ad84-1eba-4097-f862-4f4983c2098d"
   },
   "outputs": [
    {
     "data": {
      "text/html": [
       "<div>\n",
       "<style scoped>\n",
       "    .dataframe tbody tr th:only-of-type {\n",
       "        vertical-align: middle;\n",
       "    }\n",
       "\n",
       "    .dataframe tbody tr th {\n",
       "        vertical-align: top;\n",
       "    }\n",
       "\n",
       "    .dataframe thead th {\n",
       "        text-align: right;\n",
       "    }\n",
       "</style>\n",
       "<table border=\"1\" class=\"dataframe\">\n",
       "  <thead>\n",
       "    <tr style=\"text-align: right;\">\n",
       "      <th></th>\n",
       "      <th>sepal_length</th>\n",
       "      <th>sepal_width</th>\n",
       "      <th>petal_length</th>\n",
       "      <th>petal_width</th>\n",
       "      <th>species</th>\n",
       "    </tr>\n",
       "  </thead>\n",
       "  <tbody>\n",
       "    <tr>\n",
       "      <th>0</th>\n",
       "      <td>5.1</td>\n",
       "      <td>3.5</td>\n",
       "      <td>1.4</td>\n",
       "      <td>0.2</td>\n",
       "      <td>setosa</td>\n",
       "    </tr>\n",
       "    <tr>\n",
       "      <th>1</th>\n",
       "      <td>4.9</td>\n",
       "      <td>3.0</td>\n",
       "      <td>1.4</td>\n",
       "      <td>0.2</td>\n",
       "      <td>setosa</td>\n",
       "    </tr>\n",
       "    <tr>\n",
       "      <th>2</th>\n",
       "      <td>4.7</td>\n",
       "      <td>3.2</td>\n",
       "      <td>1.3</td>\n",
       "      <td>0.2</td>\n",
       "      <td>setosa</td>\n",
       "    </tr>\n",
       "    <tr>\n",
       "      <th>3</th>\n",
       "      <td>4.6</td>\n",
       "      <td>3.1</td>\n",
       "      <td>1.5</td>\n",
       "      <td>0.2</td>\n",
       "      <td>setosa</td>\n",
       "    </tr>\n",
       "    <tr>\n",
       "      <th>4</th>\n",
       "      <td>5.0</td>\n",
       "      <td>3.6</td>\n",
       "      <td>1.4</td>\n",
       "      <td>0.2</td>\n",
       "      <td>setosa</td>\n",
       "    </tr>\n",
       "  </tbody>\n",
       "</table>\n",
       "</div>"
      ],
      "text/plain": [
       "   sepal_length  sepal_width  petal_length  petal_width species\n",
       "0           5.1          3.5           1.4          0.2  setosa\n",
       "1           4.9          3.0           1.4          0.2  setosa\n",
       "2           4.7          3.2           1.3          0.2  setosa\n",
       "3           4.6          3.1           1.5          0.2  setosa\n",
       "4           5.0          3.6           1.4          0.2  setosa"
      ]
     },
     "execution_count": 4,
     "metadata": {},
     "output_type": "execute_result"
    }
   ],
   "source": [
    "df=sns.load_dataset('iris')\n",
    "df.head()"
   ]
  },
  {
   "cell_type": "code",
   "execution_count": 5,
   "metadata": {
    "id": "nRQupXjFZGrF"
   },
   "outputs": [],
   "source": [
    "# Seperate the target variable\n",
    "X=df[df.columns[1:-1]]   # read \"-1\" as \"the last one\"\n",
    "y=df[df.columns[-1]]"
   ]
  },
  {
   "cell_type": "code",
   "execution_count": 8,
   "metadata": {
    "collapsed": true,
    "jupyter": {
     "outputs_hidden": true
    },
    "scrolled": true
   },
   "outputs": [
    {
     "ename": "NameError",
     "evalue": "name 'x' is not defined",
     "output_type": "error",
     "traceback": [
      "\u001b[31m---------------------------------------------------------------------------\u001b[39m",
      "\u001b[31mNameError\u001b[39m                                 Traceback (most recent call last)",
      "\u001b[36mCell\u001b[39m\u001b[36m \u001b[39m\u001b[32mIn[8]\u001b[39m\u001b[32m, line 1\u001b[39m\n\u001b[32m----> \u001b[39m\u001b[32m1\u001b[39m \u001b[43mx\u001b[49m, y\n",
      "\u001b[31mNameError\u001b[39m: name 'x' is not defined"
     ]
    }
   ],
   "source": [
    "x, y"
   ]
  },
  {
   "cell_type": "code",
   "execution_count": 14,
   "metadata": {
    "colab": {
     "base_uri": "https://localhost:8080/"
    },
    "id": "UJPBa_8gZTkU",
    "outputId": "b255cd3b-28e6-4a6f-d295-5dbff6535629"
   },
   "outputs": [
    {
     "data": {
      "text/plain": [
       "species\n",
       "setosa        50\n",
       "versicolor    50\n",
       "virginica     50\n",
       "Name: count, dtype: int64"
      ]
     },
     "execution_count": 14,
     "metadata": {},
     "output_type": "execute_result"
    }
   ],
   "source": [
    "# Show the number of instances per class\n",
    "y.value_counts()"
   ]
  },
  {
   "cell_type": "code",
   "execution_count": 15,
   "metadata": {
    "id": "_mNkeK9nhc2b"
   },
   "outputs": [],
   "source": [
    "# split the data\n",
    "from sklearn.model_selection import train_test_split\n",
    "X_train, X_test, y_train, y_test = train_test_split(X, y, test_size=0.3, random_state=42, stratify=y)"
   ]
  },
  {
   "cell_type": "code",
   "execution_count": 16,
   "metadata": {
    "colab": {
     "base_uri": "https://localhost:8080/",
     "height": 206
    },
    "id": "Ofur5jUwQ6zw",
    "outputId": "f709c5d6-1b5c-4a74-a4eb-605ff6e51523"
   },
   "outputs": [
    {
     "data": {
      "text/html": [
       "<div>\n",
       "<style scoped>\n",
       "    .dataframe tbody tr th:only-of-type {\n",
       "        vertical-align: middle;\n",
       "    }\n",
       "\n",
       "    .dataframe tbody tr th {\n",
       "        vertical-align: top;\n",
       "    }\n",
       "\n",
       "    .dataframe thead th {\n",
       "        text-align: right;\n",
       "    }\n",
       "</style>\n",
       "<table border=\"1\" class=\"dataframe\">\n",
       "  <thead>\n",
       "    <tr style=\"text-align: right;\">\n",
       "      <th></th>\n",
       "      <th>sepal_width</th>\n",
       "      <th>petal_length</th>\n",
       "      <th>petal_width</th>\n",
       "    </tr>\n",
       "  </thead>\n",
       "  <tbody>\n",
       "    <tr>\n",
       "      <th>98</th>\n",
       "      <td>2.5</td>\n",
       "      <td>3.0</td>\n",
       "      <td>1.1</td>\n",
       "    </tr>\n",
       "    <tr>\n",
       "      <th>68</th>\n",
       "      <td>2.2</td>\n",
       "      <td>4.5</td>\n",
       "      <td>1.5</td>\n",
       "    </tr>\n",
       "    <tr>\n",
       "      <th>19</th>\n",
       "      <td>3.8</td>\n",
       "      <td>1.5</td>\n",
       "      <td>0.3</td>\n",
       "    </tr>\n",
       "    <tr>\n",
       "      <th>143</th>\n",
       "      <td>3.2</td>\n",
       "      <td>5.9</td>\n",
       "      <td>2.3</td>\n",
       "    </tr>\n",
       "    <tr>\n",
       "      <th>99</th>\n",
       "      <td>2.8</td>\n",
       "      <td>4.1</td>\n",
       "      <td>1.3</td>\n",
       "    </tr>\n",
       "  </tbody>\n",
       "</table>\n",
       "</div>"
      ],
      "text/plain": [
       "     sepal_width  petal_length  petal_width\n",
       "98           2.5           3.0          1.1\n",
       "68           2.2           4.5          1.5\n",
       "19           3.8           1.5          0.3\n",
       "143          3.2           5.9          2.3\n",
       "99           2.8           4.1          1.3"
      ]
     },
     "execution_count": 16,
     "metadata": {},
     "output_type": "execute_result"
    }
   ],
   "source": [
    "#Check before standardization\n",
    "X_train.head()"
   ]
  },
  {
   "cell_type": "markdown",
   "metadata": {
    "id": "nW1yRSfmQ4cL"
   },
   "source": [
    "## **PCA**"
   ]
  },
  {
   "cell_type": "markdown",
   "metadata": {
    "id": "eGFUI-WFXkC4"
   },
   "source": [
    "### Standardize the Data\n",
    "\n",
    "PCA is affected by scale: you should give each of the features in your data a similar scale (mean = 0 and variance = 1) before applying PCA.\n",
    "We will use `StandardScaler` to standardize our dataset’s features."
   ]
  },
  {
   "cell_type": "code",
   "execution_count": 17,
   "metadata": {
    "id": "-agz97xHBYuW"
   },
   "outputs": [],
   "source": [
    "#Now lets apply 1-1 \"StandardScaler\" transformer\n",
    "#1) import the module\n",
    "from sklearn.preprocessing import StandardScaler\n",
    "\n",
    "#2) define the model\n",
    "scaler=StandardScaler()\n",
    "\n",
    "#3) fit the model\n",
    "scaler.fit(X_train)\n",
    "\n",
    "#4) transform the data\n",
    "X_train_ss = scaler.transform(X_train)\n",
    "\n",
    "# note 3 and 4 could be combined like this:\n",
    "# X_train_ss = SS.fit_transform(X_train)"
   ]
  },
  {
   "cell_type": "code",
   "execution_count": 18,
   "metadata": {},
   "outputs": [
    {
     "data": {
      "text/plain": [
       "array([[-1.22024754, -0.4419858 , -0.13661044],\n",
       "       [-1.87955796,  0.40282929,  0.38029394],\n",
       "       [ 1.63676428, -1.2868009 , -1.17041921],\n",
       "       [ 0.31814344,  1.19132338,  1.41410271],\n",
       "       [-0.56093712,  0.17754527,  0.12184175],\n",
       "       [-0.12139684,  0.79707634,  1.41410271],\n",
       "       [ 0.0983733 , -1.2868009 , -1.4288714 ],\n",
       "       [ 1.63676428, -1.23047989, -1.29964531],\n",
       "       [-0.34116698, -1.3431219 , -1.29964531],\n",
       "       [-0.12139684,  1.19132338,  1.15565051],\n",
       "       [ 0.31814344,  0.74075533,  1.02642442],\n",
       "       [-0.12139684, -1.3431219 , -1.29964531],\n",
       "       [-0.12139684, -1.23047989, -1.29964531],\n",
       "       [-0.34116698,  0.40282929,  0.38029394],\n",
       "       [-1.44001768,  0.00858225, -0.13661044],\n",
       "       [ 0.31814344,  1.24764439,  0.76797223],\n",
       "       [ 0.75768372, -1.23047989, -1.04119311],\n",
       "       [ 0.31814344, -1.23047989, -1.29964531],\n",
       "       [ 0.53791358,  1.07868137,  1.6725549 ],\n",
       "       [ 0.31814344,  0.57179231,  0.76797223],\n",
       "       [ 0.75768372, -1.2868009 , -1.04119311],\n",
       "       [-0.78070726,  0.62811332,  0.76797223],\n",
       "       [-0.12139684,  1.58557043,  1.15565051],\n",
       "       [-0.56093712,  1.64189143,  1.02642442],\n",
       "       [-0.12139684,  0.23386627, -0.00738435],\n",
       "       [ 0.75768372, -1.3431219 , -1.17041921],\n",
       "       [ 1.41699414, -1.2868009 , -1.04119311],\n",
       "       [ 1.85653442, -1.39944291, -1.04119311],\n",
       "       [ 0.0983733 ,  0.62811332,  0.38029394],\n",
       "       [-1.22024754,  0.12122426,  0.12184175],\n",
       "       [ 2.95538512, -1.2868009 , -1.04119311],\n",
       "       [ 0.97745386, -1.3431219 , -1.17041921],\n",
       "       [-0.78070726,  0.17754527, -0.26583654],\n",
       "       [-0.34116698, -0.10405976,  0.12184175],\n",
       "       [-0.12139684, -1.3431219 , -1.4288714 ],\n",
       "       [-0.12139684, -1.3431219 , -1.17041921],\n",
       "       [ 0.0983733 ,  0.34650829,  0.25106784],\n",
       "       [-1.22024754,  0.68443432,  0.89719832],\n",
       "       [ 1.63676428,  1.47292841,  1.02642442],\n",
       "       [ 0.97745386, -1.3431219 , -1.29964531],\n",
       "       [-0.56093712,  1.02236036,  1.15565051],\n",
       "       [ 0.31814344, -1.3431219 , -1.29964531],\n",
       "       [-1.87955796,  0.68443432,  0.38029394],\n",
       "       [ 0.97745386, -1.39944291, -1.29964531],\n",
       "       [ 0.53791358,  1.24764439,  1.6725549 ],\n",
       "       [-1.87955796,  0.12122426, -0.26583654],\n",
       "       [ 0.75768372, -1.06151687, -1.29964531],\n",
       "       [-0.12139684,  1.30396539,  1.41410271],\n",
       "       [-0.56093712,  0.12122426,  0.12184175],\n",
       "       [-1.22024754,  0.68443432,  1.02642442],\n",
       "       [-0.78070726,  0.06490325, -0.00738435],\n",
       "       [-1.65978782, -1.39944291, -1.17041921],\n",
       "       [-1.44001768, -0.04773876, -0.26583654],\n",
       "       [ 0.0983733 ,  0.96603936,  0.76797223],\n",
       "       [-0.12139684,  0.4591503 ,  0.25106784],\n",
       "       [-0.34116698,  1.02236036,  0.76797223],\n",
       "       [ 0.75768372, -1.2868009 , -1.29964531],\n",
       "       [-0.34116698,  0.23386627,  0.12184175],\n",
       "       [ 1.197224  , -1.3431219 , -1.29964531],\n",
       "       [ 0.0983733 ,  0.51547131,  0.38029394],\n",
       "       [-0.56093712,  0.57179231,  0.25106784],\n",
       "       [-0.78070726,  0.06490325,  0.25106784],\n",
       "       [ 1.197224  ,  1.30396539,  1.6725549 ],\n",
       "       [-0.78070726,  0.74075533,  0.50952003],\n",
       "       [-0.34116698,  0.29018728,  0.12184175],\n",
       "       [ 0.75768372,  1.02236036,  1.5433288 ],\n",
       "       [-0.56093712,  0.62811332,  1.02642442],\n",
       "       [ 0.0983733 , -1.2868009 , -1.29964531],\n",
       "       [ 0.31814344,  1.07868137,  1.41410271],\n",
       "       [-0.56093712,  0.4591503 ,  0.38029394],\n",
       "       [-0.12139684,  0.17754527,  0.12184175],\n",
       "       [-1.0004774 ,  1.75453345,  1.41410271],\n",
       "       [ 2.2960747 , -1.2868009 , -1.4288714 ],\n",
       "       [ 0.31814344,  0.85339734,  1.41410271],\n",
       "       [-0.12139684,  0.74075533,  0.76797223],\n",
       "       [-1.65978782,  0.34650829,  0.12184175],\n",
       "       [ 0.0983733 , -1.23047989, -1.29964531],\n",
       "       [ 1.63676428,  1.64189143,  1.28487661],\n",
       "       [-0.12139684,  0.96603936,  1.15565051],\n",
       "       [ 1.63676428, -1.06151687, -1.04119311],\n",
       "       [-0.12139684, -1.51208492, -1.4288714 ],\n",
       "       [-0.56093712,  0.57179231,  0.76797223],\n",
       "       [-0.12139684,  1.13500238,  0.50952003],\n",
       "       [-0.56093712,  0.74075533,  1.5433288 ],\n",
       "       [ 1.85653442, -1.17415888, -1.04119311],\n",
       "       [-0.78070726,  0.74075533,  0.89719832],\n",
       "       [-2.31909824, -0.16038077, -0.26583654],\n",
       "       [ 0.53791358,  1.07868137,  1.15565051],\n",
       "       [-0.56093712,  1.30396539,  0.89719832],\n",
       "       [ 1.41699414, -1.2868009 , -1.29964531],\n",
       "       [-0.56093712,  0.51547131, -0.00738435],\n",
       "       [-1.0004774 ,  0.34650829, -0.00738435],\n",
       "       [ 0.31814344,  0.51547131,  0.25106784],\n",
       "       [-1.22024754,  0.62811332,  0.38029394],\n",
       "       [-0.12139684,  0.23386627,  0.38029394],\n",
       "       [ 0.97745386, -1.2868009 , -1.29964531],\n",
       "       [ 0.0983733 ,  0.90971835,  1.15565051],\n",
       "       [-1.0004774 ,  0.12122426, -0.00738435],\n",
       "       [-0.78070726,  0.74075533,  0.89719832],\n",
       "       [ 0.75768372, -1.23047989, -1.29964531],\n",
       "       [ 1.197224  , -1.3431219 , -1.4288714 ],\n",
       "       [-1.0004774 , -0.16038077, -0.26583654],\n",
       "       [ 2.51584484, -1.3431219 , -1.29964531],\n",
       "       [-0.78070726,  0.23386627,  0.12184175],\n",
       "       [ 0.0983733 , -1.2868009 , -1.29964531]])"
      ]
     },
     "execution_count": 18,
     "metadata": {},
     "output_type": "execute_result"
    }
   ],
   "source": [
    "X_train_ss"
   ]
  },
  {
   "cell_type": "markdown",
   "metadata": {
    "id": "uIx8qBcFrkDx"
   },
   "source": [
    "### Run PCA"
   ]
  },
  {
   "cell_type": "code",
   "execution_count": 19,
   "metadata": {
    "colab": {
     "base_uri": "https://localhost:8080/"
    },
    "id": "6aLCO2d1Z6BK",
    "outputId": "2871a04a-f65b-438e-be48-255ef0bec152"
   },
   "outputs": [
    {
     "data": {
      "text/plain": [
       "array([[ 0.09953905, -1.27195338],\n",
       "       [ 1.24517682, -1.511778  ],\n",
       "       [-2.23995982,  0.82850939],\n",
       "       [ 1.56980436,  1.02026044],\n",
       "       [ 0.41457825, -0.43457392],\n",
       "       [ 1.48337778,  0.51976305],\n",
       "       [-1.80491446, -0.66531921],\n",
       "       [-2.2865126 ,  0.80241998],\n",
       "       [-1.58636569, -1.04325442],\n",
       "       [ 1.57485976,  0.53649337]])"
      ]
     },
     "execution_count": 19,
     "metadata": {},
     "output_type": "execute_result"
    }
   ],
   "source": [
    "#Now lets perfrom pca\n",
    "#Steps are similar to the scale transformer\n",
    "#1) import the module\n",
    "from sklearn.decomposition import PCA\n",
    "#2) define the model\n",
    "pca = PCA(n_components=2)   # n_components means the pca transformation constructs this many features\n",
    "#3) fit the model\n",
    "pca.fit(X_train_ss)\n",
    "#4) transform the data\n",
    "pca_train = pca.transform(X_train_ss)\n",
    "# 3 and 4 could be combined\n",
    "# pca_train = pca.fit_transform(X_train_ss)\n",
    "# print the output, which is a matrix of only two features\n",
    "pca_train[:10,:]\n",
    "# ALT: plt.scatter(pca_train[:,0],pca_train[:,1])"
   ]
  },
  {
   "cell_type": "markdown",
   "metadata": {
    "id": "4qJpnXigjaP7"
   },
   "source": [
    "### Visualising the results\n",
    "\n",
    "possible if it's 2d"
   ]
  },
  {
   "cell_type": "code",
   "execution_count": 20,
   "metadata": {
    "colab": {
     "base_uri": "https://localhost:8080/",
     "height": 449
    },
    "id": "kwXbpkpNbgd4",
    "outputId": "25cd8872-3b02-4aef-bd6a-d5ca2fa5e43c"
   },
   "outputs": [
    {
     "data": {
      "image/png": "[encoded data removed]",
      "text/plain": [
       "<Figure size 640x480 with 1 Axes>"
      ]
     },
     "metadata": {},
     "output_type": "display_data"
    }
   ],
   "source": [
    "#format and visualise the transformed training data\n",
    "df_pca_train = pd.DataFrame(data = pca_train, columns = ['pc1', 'pc2'])\n",
    "df_pca_train['species']=y_train\n",
    "sns.scatterplot(x='pc1', y='pc2', hue=df_pca_train['species'], data=df_pca_train);"
   ]
  },
  {
   "cell_type": "markdown",
   "metadata": {
    "id": "3GUvOfwMmz-j"
   },
   "source": [
    "### Transform the test data\n",
    "\n",
    "note: Here we only apply the learned transformers to transform the test data, NO fit is used\n"
   ]
  },
  {
   "cell_type": "code",
   "execution_count": 21,
   "metadata": {
    "id": "IuID7NCfnLMI"
   },
   "outputs": [],
   "source": [
    "#1- First apply the scaler that has been built based on the training data to scale the test data\n",
    "X_test_ss = scaler.transform(X_test)\n",
    "#2- Second apply the pca transformation that has been built based on the training data to transfer the scaled test data\n",
    "pca_test = pca.transform(X_test_ss)"
   ]
  },
  {
   "cell_type": "markdown",
   "metadata": {
    "id": "YXqTEokilwrw"
   },
   "source": [
    "###Classification"
   ]
  },
  {
   "cell_type": "code",
   "execution_count": 22,
   "metadata": {
    "colab": {
     "base_uri": "https://localhost:8080/"
    },
    "id": "vRurs6JBvN8D",
    "outputId": "82da90f2-41ea-4188-c4e1-505561e399ed"
   },
   "outputs": [
    {
     "name": "stdout",
     "output_type": "stream",
     "text": [
      "Accuracy before transformation  = 0.91\n"
     ]
    }
   ],
   "source": [
    "# Performing classification based on the orignal data\n",
    "from sklearn.metrics import accuracy_score\n",
    "from sklearn.ensemble import RandomForestClassifier\n",
    "classifier = RandomForestClassifier(random_state=0)\n",
    "#classifier=SVC()\n",
    "classifier.fit(X_train, y_train)\n",
    "score = accuracy_score(classifier.predict(X_test), y_test)\n",
    "print('Accuracy before transformation  = {:.2f}'.format(score))"
   ]
  },
  {
   "cell_type": "code",
   "execution_count": 23,
   "metadata": {
    "colab": {
     "base_uri": "https://localhost:8080/"
    },
    "id": "8vmRv7NzprPt",
    "outputId": "8704b207-039c-4043-cb52-61bedfdf9363"
   },
   "outputs": [
    {
     "name": "stdout",
     "output_type": "stream",
     "text": [
      "Accuracy after PCA transformation  = 0.93\n"
     ]
    }
   ],
   "source": [
    "# Performing classification using the pca-based transformed data\n",
    "classifier.fit(pca_train, y_train)\n",
    "score = accuracy_score(classifier.predict(pca_test), y_test)\n",
    "print('Accuracy after PCA transformation  = {:.2f}'.format(score))"
   ]
  },
  {
   "cell_type": "markdown",
   "metadata": {
    "id": "W0uRfarir_Td"
   },
   "source": [
    "##ICA\n",
    "\n",
    "Steps are very similar to the scaler and the PCA transformeres.\n",
    "\n",
    "There are several ICA approaches in fact. We will use sklearn's `Fast ICA` algorithm."
   ]
  },
  {
   "cell_type": "code",
   "execution_count": 24,
   "metadata": {
    "colab": {
     "base_uri": "https://localhost:8080/"
    },
    "id": "tbgXGaSQqFkf",
    "outputId": "3792a23c-762e-4cf1-b779-e19bc7d566f4"
   },
   "outputs": [],
   "source": [
    "from sklearn.decomposition import FastICA\n",
    "ica = FastICA(n_components=2)\n",
    "ica_train = ica.fit_transform(X_train_ss)  # nb. we already did the scaling, above"
   ]
  },
  {
   "cell_type": "code",
   "execution_count": 25,
   "metadata": {
    "colab": {
     "base_uri": "https://localhost:8080/",
     "height": 449
    },
    "id": "KOhnnHa9tdAP",
    "outputId": "a4b94f00-4730-4b62-be5b-c30b9793d970"
   },
   "outputs": [
    {
     "data": {
      "image/png": "[encoded data removed]",
      "text/plain": [
       "<Figure size 640x480 with 1 Axes>"
      ]
     },
     "metadata": {},
     "output_type": "display_data"
    }
   ],
   "source": [
    "# Visualisation\n",
    "df_ica_train = pd.DataFrame(data = ica_train, columns = ['ic1', 'ic2'])\n",
    "df_ica_train['species']=y_train\n",
    "sns.scatterplot(x='ic1', y='ic2', hue=df_ica_train['species'], data=df_ica_train);"
   ]
  },
  {
   "cell_type": "code",
   "execution_count": 26,
   "metadata": {
    "colab": {
     "base_uri": "https://localhost:8080/"
    },
    "id": "6vLBf1vqtkYz",
    "outputId": "2217049a-b109-4667-f759-0bfd7f9d4791"
   },
   "outputs": [
    {
     "name": "stdout",
     "output_type": "stream",
     "text": [
      "Accuracy after ICA transformation  = 0.93\n"
     ]
    }
   ],
   "source": [
    "# Performing classification using the ica-based transformed data\n",
    "# Transform test data using ica\n",
    "classifier.fit(ica_train, y_train)\n",
    "ica_test = ica.transform(X_test_ss)\n",
    "score = accuracy_score(classifier.predict(ica_test), y_test)\n",
    "print('Accuracy after ICA transformation  = {:.2f}'.format(score))"
   ]
  },
  {
   "cell_type": "markdown",
   "metadata": {
    "id": "P_DbUogtv7Hj"
   },
   "source": [
    "## GP transformers"
   ]
  },
  {
   "cell_type": "code",
   "execution_count": 27,
   "metadata": {
    "colab": {
     "base_uri": "https://localhost:8080/"
    },
    "id": "Tszb1Us8wsDD",
    "outputId": "0aad680a-268d-4ab6-e413-00c9fd164761"
   },
   "outputs": [
    {
     "name": "stdout",
     "output_type": "stream",
     "text": [
      "Collecting gplearn\n",
      "  Downloading gplearn-0.4.2-py3-none-any.whl.metadata (4.3 kB)\n",
      "Requirement already satisfied: scikit-learn>=1.0.2 in /home/codespace/.local/lib/python3.12/site-packages (from gplearn) (1.7.0)\n",
      "Requirement already satisfied: joblib>=1.0.0 in /home/codespace/.local/lib/python3.12/site-packages (from gplearn) (1.5.1)\n",
      "Requirement already satisfied: numpy>=1.22.0 in /home/codespace/.local/lib/python3.12/site-packages (from scikit-learn>=1.0.2->gplearn) (2.3.1)\n",
      "Requirement already satisfied: scipy>=1.8.0 in /home/codespace/.local/lib/python3.12/site-packages (from scikit-learn>=1.0.2->gplearn) (1.16.0)\n",
      "Requirement already satisfied: threadpoolctl>=3.1.0 in /home/codespace/.local/lib/python3.12/site-packages (from scikit-learn>=1.0.2->gplearn) (3.6.0)\n",
      "Downloading gplearn-0.4.2-py3-none-any.whl (25 kB)\n",
      "Installing collected packages: gplearn\n",
      "Successfully installed gplearn-0.4.2\n",
      "\n",
      "\u001b[1m[\u001b[0m\u001b[34;49mnotice\u001b[0m\u001b[1;39;49m]\u001b[0m\u001b[39;49m A new release of pip is available: \u001b[0m\u001b[31;49m25.1.1\u001b[0m\u001b[39;49m -> \u001b[0m\u001b[32;49m25.2\u001b[0m\n",
      "\u001b[1m[\u001b[0m\u001b[34;49mnotice\u001b[0m\u001b[1;39;49m]\u001b[0m\u001b[39;49m To update, run: \u001b[0m\u001b[32;49mpython3 -m pip install --upgrade pip\u001b[0m\n"
     ]
    }
   ],
   "source": [
    "# Might need to install the package for genetic programming (gp)\n",
    "!pip install gplearn"
   ]
  },
  {
   "cell_type": "code",
   "execution_count": 28,
   "metadata": {
    "colab": {
     "base_uri": "https://localhost:8080/"
    },
    "id": "ALyW6vF-vggh",
    "outputId": "101b09c9-5a24-4517-95ac-deb9db6dc838"
   },
   "outputs": [
    {
     "data": {
      "text/plain": [
       "array([1, 1, 0, 2, 1, 2, 0, 0, 0, 2, 2, 0, 0, 1, 1, 2, 0, 0, 2, 1, 0, 2,\n",
       "       2, 2, 1, 0, 0, 0, 1, 1, 0, 0, 1, 1, 0, 0, 1, 2, 2, 0, 2, 0, 2, 0,\n",
       "       2, 1, 0, 2, 1, 2, 1, 0, 1, 2, 1, 2, 0, 1, 0, 1, 1, 1, 2, 1, 1, 2,\n",
       "       2, 0, 2, 1, 1, 2, 0, 2, 2, 1, 0, 2, 2, 0, 0, 2, 2, 2, 0, 2, 1, 2,\n",
       "       2, 0, 1, 1, 1, 1, 1, 0, 2, 1, 2, 0, 0, 1, 0, 1, 0])"
      ]
     },
     "execution_count": 28,
     "metadata": {},
     "output_type": "execute_result"
    }
   ],
   "source": [
    "#Since this package does not work when the target variable is string, an encoder is used to convert it\n",
    "from sklearn.preprocessing import LabelEncoder\n",
    "le = LabelEncoder()\n",
    "label_encoded = le.fit_transform(y_train)\n",
    "label_encoded"
   ]
  },
  {
   "cell_type": "code",
   "execution_count": 29,
   "metadata": {
    "collapsed": true,
    "id": "ZgMixJDZx_3Q",
    "jupyter": {
     "outputs_hidden": true
    }
   },
   "outputs": [
    {
     "ename": "AttributeError",
     "evalue": "'SymbolicTransformer' object has no attribute '_validate_data'",
     "output_type": "error",
     "traceback": [
      "\u001b[31m---------------------------------------------------------------------------\u001b[39m",
      "\u001b[31mAttributeError\u001b[39m                            Traceback (most recent call last)",
      "\u001b[36mCell\u001b[39m\u001b[36m \u001b[39m\u001b[32mIn[29]\u001b[39m\u001b[32m, line 5\u001b[39m\n\u001b[32m      3\u001b[39m \u001b[38;5;28;01mfrom\u001b[39;00m\u001b[38;5;250m \u001b[39m\u001b[34;01mgplearn\u001b[39;00m\u001b[34;01m.\u001b[39;00m\u001b[34;01mgenetic\u001b[39;00m\u001b[38;5;250m \u001b[39m\u001b[38;5;28;01mimport\u001b[39;00m SymbolicTransformer\n\u001b[32m      4\u001b[39m gp = SymbolicTransformer(n_components=\u001b[32m2\u001b[39m)\n\u001b[32m----> \u001b[39m\u001b[32m5\u001b[39m \u001b[43mgp\u001b[49m\u001b[43m.\u001b[49m\u001b[43mfit\u001b[49m\u001b[43m(\u001b[49m\u001b[43mX_train_ss\u001b[49m\u001b[43m,\u001b[49m\u001b[43m \u001b[49m\u001b[43mlabel_encoded\u001b[49m\u001b[43m)\u001b[49m\n\u001b[32m      6\u001b[39m gp_train = gp.transform(X_train_ss)\n",
      "\u001b[36mFile \u001b[39m\u001b[32m/usr/local/python/3.12.1/lib/python3.12/site-packages/gplearn/genetic.py:312\u001b[39m, in \u001b[36mBaseSymbolic.fit\u001b[39m\u001b[34m(self, X, y, sample_weight)\u001b[39m\n\u001b[32m    309\u001b[39m     \u001b[38;5;28mself\u001b[39m.n_classes_ = \u001b[38;5;28mlen\u001b[39m(\u001b[38;5;28mself\u001b[39m.classes_)\n\u001b[32m    311\u001b[39m \u001b[38;5;28;01melse\u001b[39;00m:\n\u001b[32m--> \u001b[39m\u001b[32m312\u001b[39m     X, y = \u001b[38;5;28;43mself\u001b[39;49m\u001b[43m.\u001b[49m\u001b[43m_validate_data\u001b[49m(X, y, y_numeric=\u001b[38;5;28;01mTrue\u001b[39;00m)\n\u001b[32m    314\u001b[39m hall_of_fame = \u001b[38;5;28mself\u001b[39m.hall_of_fame\n\u001b[32m    315\u001b[39m \u001b[38;5;28;01mif\u001b[39;00m hall_of_fame \u001b[38;5;129;01mis\u001b[39;00m \u001b[38;5;28;01mNone\u001b[39;00m:\n",
      "\u001b[31mAttributeError\u001b[39m: 'SymbolicTransformer' object has no attribute '_validate_data'"
     ]
    }
   ],
   "source": [
    "#Now lets apply genetic programming.\n",
    "#Steps are similar to the scale, pca, and ica transformers\n",
    "from gplearn.genetic import SymbolicTransformer\n",
    "gp = SymbolicTransformer(n_components=2)\n",
    "gp.fit(X_train_ss, label_encoded)\n",
    "gp_train = gp.transform(X_train_ss)"
   ]
  },
  {
   "cell_type": "code",
   "execution_count": 22,
   "metadata": {
    "colab": {
     "base_uri": "https://localhost:8080/",
     "height": 466
    },
    "id": "yOIoCd6Ty8Wq",
    "outputId": "7db18ff1-46f9-4379-9857-29b791b87d71"
   },
   "outputs": [
    {
     "data": {
      "text/plain": [
       "<Axes: xlabel='gp1', ylabel='gp2'>"
      ]
     },
     "execution_count": 22,
     "metadata": {},
     "output_type": "execute_result"
    },
    {
     "data": {
      "image/png": "[encoded data removed]",
      "text/plain": [
       "<Figure size 640x480 with 1 Axes>"
      ]
     },
     "metadata": {},
     "output_type": "display_data"
    }
   ],
   "source": [
    "# Visualisation using the gp-based transformed data\n",
    "df_gp_train = pd.DataFrame(data = gp_train, columns = ['gp1', 'gp2'])\n",
    "df_gp_train['species']=y_train\n",
    "sns.scatterplot(x='gp1', y='gp2', hue=df_gp_train['species'], data=df_gp_train)"
   ]
  },
  {
   "cell_type": "code",
   "execution_count": 23,
   "metadata": {
    "colab": {
     "base_uri": "https://localhost:8080/"
    },
    "id": "dRta9_wezKF4",
    "outputId": "964e0e94-ea22-4b26-a873-a5869b5cf234"
   },
   "outputs": [
    {
     "data": {
      "text/plain": [
       "0.9333333333333333"
      ]
     },
     "execution_count": 23,
     "metadata": {},
     "output_type": "execute_result"
    }
   ],
   "source": [
    "# Transform test data using gp\n",
    "# Then, performing classification using the ica-based transformed data\n",
    "gp_test = gp.transform(X_test_ss)\n",
    "df_gp_test = pd.DataFrame(data = gp_test, columns = ['gp1', 'gp2'])\n",
    "df_gp_test['species']=y_test\n",
    "classifier.fit(gp_train, y_train)\n",
    "accuracy_score(classifier.predict(gp_test), y_test)"
   ]
  },
  {
   "cell_type": "markdown",
   "metadata": {
    "id": "Pj23hsNUiESM"
   },
   "source": [
    "---\n"
   ]
  }
 ],
 "metadata": {
  "colab": {
   "provenance": []
  },
  "kernelspec": {
   "display_name": "Python 3 (ipykernel)",
   "language": "python",
   "name": "python3"
  },
  "language_info": {
   "codemirror_mode": {
    "name": "ipython",
    "version": 3
   },
   "file_extension": ".py",
   "mimetype": "text/x-python",
   "name": "python",
   "nbconvert_exporter": "python",
   "pygments_lexer": "ipython3",
   "version": "3.12.1"
  }
 },
 "nbformat": 4,
 "nbformat_minor": 4
}
