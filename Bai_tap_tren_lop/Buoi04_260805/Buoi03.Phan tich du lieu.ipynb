{
 "cells": [
  {
   "cell_type": "markdown",
   "id": "eb670116-022f-41c1-bbaa-5ba1d2c2803e",
   "metadata": {},
   "source": [
    "## Phân tích dữ liệu"
   ]
  },
  {
   "cell_type": "raw",
   "id": "8ec0b070-4f43-49d2-a99b-2ae4c7e18def",
   "metadata": {},
   "source": [
    "# Numpy"
   ]
  },
  {
   "cell_type": "code",
   "execution_count": 1,
   "id": "383193f7-ffc8-410c-b443-badaecfba3d8",
   "metadata": {},
   "outputs": [
    {
     "name": "stdout",
     "output_type": "stream",
     "text": [
      "[1, 2, 3, 4, 5]\n",
      "[1, 2, 3, 4, 5, 1, 2, 3, 4, 5]\n"
     ]
    }
   ],
   "source": [
    "v = list(range(1,6))\n",
    "print(v)\n",
    "print(2*v)"
   ]
  },
  {
   "cell_type": "code",
   "execution_count": 2,
   "id": "c96423c2-1389-4e4a-ae2a-b2c9cc3ec74a",
   "metadata": {},
   "outputs": [
    {
     "name": "stdout",
     "output_type": "stream",
     "text": [
      "[1 2 3 4 5]\n",
      "[ 2  4  6  8 10]\n"
     ]
    }
   ],
   "source": [
    "import numpy as np\n",
    "v = np.arange(1,6)\n",
    "print(v)\n",
    "print(v*2)"
   ]
  },
  {
   "cell_type": "code",
   "execution_count": 3,
   "id": "307dc3e0-190b-4649-bc74-0ffb19ce93d7",
   "metadata": {},
   "outputs": [],
   "source": [
    "fruits = [\"apple\", \"banana\", \"cherry\"] #lists []\n",
    "colors = (\"red\", \"green\", \"blue\") #tuples ()\n",
    "animals = {'cat', 'dog'} #sets {}\n",
    "person = {\"name\" : \"Tom\", \"age\" : 20} #dictionaries {}"
   ]
  },
  {
   "cell_type": "code",
   "execution_count": 4,
   "id": "2f5adefc-e6d3-4683-8fa6-ba42cd33db3c",
   "metadata": {},
   "outputs": [
    {
     "name": "stdout",
     "output_type": "stream",
     "text": [
      "len(x)= 4\n",
      "x[0]= 60\n",
      "x[1]= 70\n",
      "x[-1]= 90\n",
      "x[1:3]= [70, 80]\n"
     ]
    }
   ],
   "source": [
    "x = [60, 70, 80, 90]\n",
    "print('len(x)=',len(x))\n",
    "print('x[0]=',x[0])\n",
    "print('x[1]=', x[1])\n",
    "print('x[-1]=',x[-1])\n",
    "print('x[1:3]=',x[1:3])"
   ]
  },
  {
   "cell_type": "code",
   "execution_count": 5,
   "id": "1c584595-aeac-4117-9588-e91afda1f068",
   "metadata": {},
   "outputs": [
    {
     "name": "stdout",
     "output_type": "stream",
     "text": [
      "c = \n"
     ]
    },
    {
     "data": {
      "text/plain": [
       "array([ 4, 10, 18])"
      ]
     },
     "metadata": {},
     "output_type": "display_data"
    }
   ],
   "source": [
    "from IPython.display import display\n",
    "import numpy as np\n",
    "a = np.array([1, 2, 3])\n",
    "b = np.array([4, 5, 6])\n",
    "c = a * b\n",
    "print('c = ')\n",
    "display(c)"
   ]
  },
  {
   "cell_type": "code",
   "execution_count": 6,
   "id": "d0626950-3010-4761-b3cf-c83157b6b783",
   "metadata": {},
   "outputs": [
    {
     "data": {
      "text/plain": [
       "array([[0., 0.],\n",
       "       [0., 0.]])"
      ]
     },
     "metadata": {},
     "output_type": "display_data"
    },
    {
     "data": {
      "text/plain": [
       "array([[1., 1.],\n",
       "       [1., 1.],\n",
       "       [1., 1.]])"
      ]
     },
     "metadata": {},
     "output_type": "display_data"
    },
    {
     "data": {
      "text/plain": [
       "array([[7, 7, 7, 7, 7],\n",
       "       [7, 7, 7, 7, 7],\n",
       "       [7, 7, 7, 7, 7],\n",
       "       [7, 7, 7, 7, 7]])"
      ]
     },
     "metadata": {},
     "output_type": "display_data"
    },
    {
     "data": {
      "text/plain": [
       "array([[1., 0., 0., 0.],\n",
       "       [0., 1., 0., 0.],\n",
       "       [0., 0., 1., 0.],\n",
       "       [0., 0., 0., 1.]])"
      ]
     },
     "metadata": {},
     "output_type": "display_data"
    },
    {
     "data": {
      "text/plain": [
       "array([[0.40086354, 0.52537628],\n",
       "       [0.13962118, 0.38524669]])"
      ]
     },
     "metadata": {},
     "output_type": "display_data"
    }
   ],
   "source": [
    "import numpy as np\n",
    "\n",
    "a = np.zeros((2,2))\n",
    "display(a)\n",
    "\n",
    "b = np.ones((3,2))\n",
    "display(b)\n",
    "\n",
    "c = np.full((4,5),7)\n",
    "display(c)\n",
    "\n",
    "d = np.eye(4)\n",
    "display(d)\n",
    "\n",
    "e = np.random.random((2,2))\n",
    "display(e)"
   ]
  },
  {
   "cell_type": "code",
   "execution_count": 7,
   "id": "2f03437d-5f5c-49c8-b288-9ac508c9c114",
   "metadata": {},
   "outputs": [
    {
     "data": {
      "text/plain": [
       "array([ 0.,  1.,  2.,  3.,  4.,  5.,  6.,  7.,  8.,  9., 10., 11., 12.,\n",
       "       13., 14.])"
      ]
     },
     "metadata": {},
     "output_type": "display_data"
    },
    {
     "data": {
      "text/plain": [
       "array([[ 0.,  1.,  2.,  3.,  4.],\n",
       "       [ 5.,  6.,  7.,  8.,  9.],\n",
       "       [10., 11., 12., 13., 14.]])"
      ]
     },
     "metadata": {},
     "output_type": "display_data"
    },
    {
     "data": {
      "text/plain": [
       "(3, 5)"
      ]
     },
     "metadata": {},
     "output_type": "display_data"
    },
    {
     "data": {
      "text/plain": [
       "2"
      ]
     },
     "metadata": {},
     "output_type": "display_data"
    },
    {
     "data": {
      "text/plain": [
       "dtype('float64')"
      ]
     },
     "metadata": {},
     "output_type": "display_data"
    }
   ],
   "source": [
    "import numpy as np\n",
    "a = np.arange(15, dtype=float)\n",
    "display(a)\n",
    "\n",
    "a = a.reshape(3,5)\n",
    "display(a)\n",
    "\n",
    "display(a.shape)\n",
    "display(a.ndim)\n",
    "display(a.dtype)"
   ]
  },
  {
   "cell_type": "code",
   "execution_count": 8,
   "id": "28ac7f4b-cf96-4268-ae0e-7158f50a2490",
   "metadata": {},
   "outputs": [
    {
     "data": {
      "text/plain": [
       "array([1, 2, 3, 4, 5])"
      ]
     },
     "metadata": {},
     "output_type": "display_data"
    }
   ],
   "source": [
    "import numpy as np\n",
    "a = np.array([1,2,3,4,5])\n",
    "display(a)"
   ]
  },
  {
   "cell_type": "code",
   "execution_count": 9,
   "id": "d8839857-932e-49e2-b1d6-7929654415b3",
   "metadata": {},
   "outputs": [
    {
     "data": {
      "text/plain": [
       "array([[ 1,  2,  3,  4,  5],\n",
       "       [ 6,  7,  8,  9, 10],\n",
       "       [11, 12, 13, 14, 15],\n",
       "       [16, 17, 18, 19, 20]])"
      ]
     },
     "metadata": {},
     "output_type": "display_data"
    },
    {
     "data": {
      "text/plain": [
       "(4, 5)"
      ]
     },
     "metadata": {},
     "output_type": "display_data"
    },
    {
     "data": {
      "text/plain": [
       "2"
      ]
     },
     "metadata": {},
     "output_type": "display_data"
    },
    {
     "data": {
      "text/plain": [
       "dtype('int64')"
      ]
     },
     "metadata": {},
     "output_type": "display_data"
    }
   ],
   "source": [
    "a = np.array([\n",
    "    [1,2,3,4,5],\n",
    "    [6,7,8,9,10],\n",
    "    [11,12,13,14,15],\n",
    "    [16,17,18,19,20]\n",
    "])\n",
    "display(a)\n",
    "display(a.shape)\n",
    "display(a.ndim)\n",
    "display(a.dtype)"
   ]
  },
  {
   "cell_type": "code",
   "execution_count": 10,
   "id": "347f6e32-e396-479f-85a0-b45e8bb7882e",
   "metadata": {},
   "outputs": [
    {
     "data": {
      "text/plain": [
       "array([[ 0,  1,  2,  3],\n",
       "       [10, 11, 12, 13],\n",
       "       [20, 21, 22, 23]])"
      ]
     },
     "metadata": {},
     "output_type": "display_data"
    },
    {
     "data": {
      "text/plain": [
       "(3, 4)"
      ]
     },
     "metadata": {},
     "output_type": "display_data"
    },
    {
     "data": {
      "text/plain": [
       "2"
      ]
     },
     "metadata": {},
     "output_type": "display_data"
    }
   ],
   "source": [
    "a = np.array([\n",
    "    [0,1,2,3],\n",
    "    [10,11,12,13],\n",
    "    [20,21,22,23]\n",
    "])\n",
    "display(a)\n",
    "display(a.shape)\n",
    "display(a.ndim)"
   ]
  },
  {
   "cell_type": "code",
   "execution_count": 11,
   "id": "fd5a849e-756b-401b-b8bd-176698d3f388",
   "metadata": {},
   "outputs": [
    {
     "data": {
      "text/plain": [
       "array([[1, 2, 3],\n",
       "       [4, 5, 6],\n",
       "       [7, 8, 9]])"
      ]
     },
     "metadata": {},
     "output_type": "display_data"
    }
   ],
   "source": [
    "a = np.arange(1, 10).reshape(3,3)\n",
    "display(a)"
   ]
  },
  {
   "cell_type": "code",
   "execution_count": 12,
   "id": "0c5e9d18-febf-4146-94c8-202d4e14013e",
   "metadata": {},
   "outputs": [
    {
     "data": {
      "text/plain": [
       "array([7, 8, 9])"
      ]
     },
     "metadata": {},
     "output_type": "display_data"
    },
    {
     "data": {
      "text/plain": [
       "(3,)"
      ]
     },
     "metadata": {},
     "output_type": "display_data"
    },
    {
     "data": {
      "text/plain": [
       "array([7, 8, 9])"
      ]
     },
     "metadata": {},
     "output_type": "display_data"
    },
    {
     "data": {
      "text/plain": [
       "(3,)"
      ]
     },
     "metadata": {},
     "output_type": "display_data"
    },
    {
     "data": {
      "text/plain": [
       "array([[7, 8, 9]])"
      ]
     },
     "metadata": {},
     "output_type": "display_data"
    },
    {
     "data": {
      "text/plain": [
       "(1, 3)"
      ]
     },
     "metadata": {},
     "output_type": "display_data"
    }
   ],
   "source": [
    "display(a[2])\n",
    "display(a[2].shape)\n",
    "\n",
    "display(a[2,:])\n",
    "display(a[2,:].shape)\n",
    "\n",
    "display(a[2:,:])\n",
    "display(a[2:,:].shape)"
   ]
  },
  {
   "cell_type": "code",
   "execution_count": 2,
   "id": "d5544bf2-a2bd-459a-bd37-6c0ad943fc12",
   "metadata": {},
   "outputs": [
    {
     "name": "stdout",
     "output_type": "stream",
     "text": [
      "[1 2 3 4 5]\n"
     ]
    }
   ],
   "source": [
    "import numpy as np\n",
    "a = np.array([1,2,3,4,5])\n",
    "print(a)"
   ]
  },
  {
   "cell_type": "code",
   "execution_count": 3,
   "id": "07af8fa2-0458-4bc1-aa6e-481f6c8935e3",
   "metadata": {},
   "outputs": [
    {
     "name": "stdout",
     "output_type": "stream",
     "text": [
      "[[ 1  2  3  4  5]\n",
      " [ 6  7  8  9 10]\n",
      " [11 12 13 14 15]\n",
      " [16 17 18 19 20]]\n"
     ]
    }
   ],
   "source": [
    "b = np.array([\n",
    "    [1,2,3,4,5],\n",
    "    [6,7,8,9,10],\n",
    "    [11,12,13,14,15],\n",
    "    [16,17,18,19,20]\n",
    "])\n",
    "print(b)"
   ]
  },
  {
   "cell_type": "code",
   "execution_count": 4,
   "id": "db87f24d-4f8c-4967-a413-f8345ad256af",
   "metadata": {},
   "outputs": [
    {
     "name": "stdout",
     "output_type": "stream",
     "text": [
      "[[ 0  1  2  3]\n",
      " [10 11 12 13]\n",
      " [20 21 22 23]]\n",
      "2\n",
      "(3, 4)\n",
      "int64\n"
     ]
    }
   ],
   "source": [
    "b = np.array([\n",
    "    [0,1,2,3],\n",
    "    [10,11,12,13],\n",
    "    [20,21,22,23],\n",
    "])\n",
    "print(b)\n",
    "print(b.ndim)\n",
    "print(b.shape)\n",
    "print(b.dtype)"
   ]
  },
  {
   "cell_type": "code",
   "execution_count": 5,
   "id": "af479b67-377b-4901-8c48-b428b7c09e72",
   "metadata": {},
   "outputs": [
    {
     "name": "stdout",
     "output_type": "stream",
     "text": [
      "[[0 1 2]\n",
      " [3 4 5]\n",
      " [6 7 8]]\n",
      "[[1 2]\n",
      " [4 5]] (2, 2)\n"
     ]
    }
   ],
   "source": [
    "a = np.arange(9).reshape(3,3)\n",
    "print(a)\n",
    "print(a[:2,1:], a[:2,1:].shape)"
   ]
  },
  {
   "cell_type": "markdown",
   "id": "77755767-c84d-471a-aac4-e5cbc52f49e2",
   "metadata": {},
   "source": [
    "### Pandas"
   ]
  },
  {
   "cell_type": "code",
   "execution_count": 13,
   "id": "cfa87428-d706-4851-89d0-fa3f250b3e47",
   "metadata": {},
   "outputs": [
    {
     "data": {
      "text/html": [
       "<div>\n",
       "<style scoped>\n",
       "    .dataframe tbody tr th:only-of-type {\n",
       "        vertical-align: middle;\n",
       "    }\n",
       "\n",
       "    .dataframe tbody tr th {\n",
       "        vertical-align: top;\n",
       "    }\n",
       "\n",
       "    .dataframe thead th {\n",
       "        text-align: right;\n",
       "    }\n",
       "</style>\n",
       "<table border=\"1\" class=\"dataframe\">\n",
       "  <thead>\n",
       "    <tr style=\"text-align: right;\">\n",
       "      <th></th>\n",
       "      <th>a</th>\n",
       "      <th>b</th>\n",
       "      <th>c</th>\n",
       "    </tr>\n",
       "  </thead>\n",
       "  <tbody>\n",
       "    <tr>\n",
       "      <th>1</th>\n",
       "      <td>4</td>\n",
       "      <td>7</td>\n",
       "      <td>10</td>\n",
       "    </tr>\n",
       "    <tr>\n",
       "      <th>2</th>\n",
       "      <td>5</td>\n",
       "      <td>8</td>\n",
       "      <td>11</td>\n",
       "    </tr>\n",
       "    <tr>\n",
       "      <th>3</th>\n",
       "      <td>6</td>\n",
       "      <td>9</td>\n",
       "      <td>12</td>\n",
       "    </tr>\n",
       "  </tbody>\n",
       "</table>\n",
       "</div>"
      ],
      "text/plain": [
       "   a  b   c\n",
       "1  4  7  10\n",
       "2  5  8  11\n",
       "3  6  9  12"
      ]
     },
     "metadata": {},
     "output_type": "display_data"
    },
    {
     "data": {
      "text/plain": [
       "a     4\n",
       "b     7\n",
       "c    10\n",
       "Name: 1, dtype: int64"
      ]
     },
     "metadata": {},
     "output_type": "display_data"
    },
    {
     "data": {
      "text/html": [
       "<div>\n",
       "<style scoped>\n",
       "    .dataframe tbody tr th:only-of-type {\n",
       "        vertical-align: middle;\n",
       "    }\n",
       "\n",
       "    .dataframe tbody tr th {\n",
       "        vertical-align: top;\n",
       "    }\n",
       "\n",
       "    .dataframe thead th {\n",
       "        text-align: right;\n",
       "    }\n",
       "</style>\n",
       "<table border=\"1\" class=\"dataframe\">\n",
       "  <thead>\n",
       "    <tr style=\"text-align: right;\">\n",
       "      <th></th>\n",
       "      <th>a</th>\n",
       "      <th>b</th>\n",
       "      <th>c</th>\n",
       "    </tr>\n",
       "  </thead>\n",
       "  <tbody>\n",
       "    <tr>\n",
       "      <th>0</th>\n",
       "      <td>4</td>\n",
       "      <td>7</td>\n",
       "      <td>10</td>\n",
       "    </tr>\n",
       "    <tr>\n",
       "      <th>1</th>\n",
       "      <td>5</td>\n",
       "      <td>8</td>\n",
       "      <td>11</td>\n",
       "    </tr>\n",
       "    <tr>\n",
       "      <th>2</th>\n",
       "      <td>6</td>\n",
       "      <td>9</td>\n",
       "      <td>12</td>\n",
       "    </tr>\n",
       "  </tbody>\n",
       "</table>\n",
       "</div>"
      ],
      "text/plain": [
       "   a  b   c\n",
       "0  4  7  10\n",
       "1  5  8  11\n",
       "2  6  9  12"
      ]
     },
     "metadata": {},
     "output_type": "display_data"
    },
    {
     "data": {
      "text/plain": [
       "a     5\n",
       "b     8\n",
       "c    11\n",
       "Name: 1, dtype: int64"
      ]
     },
     "metadata": {},
     "output_type": "display_data"
    }
   ],
   "source": [
    "from IPython.display import display\n",
    "import pandas as pd\n",
    "a = pd.DataFrame({\n",
    "        'a': [4,5,6],\n",
    "        'b': [7,8,9],\n",
    "        'c': [10,11,12],\n",
    "    }, index = [1,2,3])\n",
    "display(a)\n",
    "display(a.loc[1])\n",
    "\n",
    "b = pd.DataFrame([\n",
    "    {'a':4,'b':7,'c':10},\n",
    "    {'a':5,'b':8,'c':11},\n",
    "    {'a':6,'b':9,'c':12},\n",
    "])\n",
    "display(b)\n",
    "display(b.loc[1])"
   ]
  },
  {
   "cell_type": "code",
   "execution_count": 14,
   "id": "da1a312b-f858-4566-835c-a63fc51a7a3f",
   "metadata": {},
   "outputs": [
    {
     "data": {
      "text/plain": [
       "pandas.core.frame.DataFrame"
      ]
     },
     "metadata": {},
     "output_type": "display_data"
    }
   ],
   "source": [
    "display(type(a))"
   ]
  },
  {
   "cell_type": "code",
   "execution_count": 15,
   "id": "79b792f2-765e-473e-bc8c-721f78766de0",
   "metadata": {},
   "outputs": [
    {
     "data": {
      "text/plain": [
       "0    1.0\n",
       "1    3.0\n",
       "2    5.0\n",
       "3    NaN\n",
       "4    6.0\n",
       "5    8.0\n",
       "dtype: float64"
      ]
     },
     "metadata": {},
     "output_type": "display_data"
    },
    {
     "data": {
      "text/plain": [
       "DatetimeIndex(['2018-10-01', '2018-10-02', '2018-10-03', '2018-10-04',\n",
       "               '2018-10-05', '2018-10-06'],\n",
       "              dtype='datetime64[ns]', freq='D')"
      ]
     },
     "metadata": {},
     "output_type": "display_data"
    }
   ],
   "source": [
    "import numpy as np\n",
    "import pandas as pd\n",
    "import matplotlib.pyplot as plt\n",
    "\n",
    "s = pd.Series([1,3,5,np.nan,6,8])\n",
    "display(s)\n",
    "\n",
    "dates = pd.date_range('20181001', periods = 6)\n",
    "display(dates)"
   ]
  },
  {
   "cell_type": "code",
   "execution_count": 16,
   "id": "772ca18a-b5d7-4337-90c1-6b908e1039a5",
   "metadata": {},
   "outputs": [
    {
     "data": {
      "text/html": [
       "<div>\n",
       "<style scoped>\n",
       "    .dataframe tbody tr th:only-of-type {\n",
       "        vertical-align: middle;\n",
       "    }\n",
       "\n",
       "    .dataframe tbody tr th {\n",
       "        vertical-align: top;\n",
       "    }\n",
       "\n",
       "    .dataframe thead th {\n",
       "        text-align: right;\n",
       "    }\n",
       "</style>\n",
       "<table border=\"1\" class=\"dataframe\">\n",
       "  <thead>\n",
       "    <tr style=\"text-align: right;\">\n",
       "      <th></th>\n",
       "      <th>A</th>\n",
       "      <th>B</th>\n",
       "      <th>C</th>\n",
       "      <th>D</th>\n",
       "    </tr>\n",
       "  </thead>\n",
       "  <tbody>\n",
       "    <tr>\n",
       "      <th>2018-10-01</th>\n",
       "      <td>0.867083</td>\n",
       "      <td>0.965086</td>\n",
       "      <td>0.164496</td>\n",
       "      <td>-0.889962</td>\n",
       "    </tr>\n",
       "    <tr>\n",
       "      <th>2018-10-02</th>\n",
       "      <td>-1.271351</td>\n",
       "      <td>0.166581</td>\n",
       "      <td>1.446631</td>\n",
       "      <td>0.384057</td>\n",
       "    </tr>\n",
       "    <tr>\n",
       "      <th>2018-10-03</th>\n",
       "      <td>-0.873674</td>\n",
       "      <td>-0.475595</td>\n",
       "      <td>0.311296</td>\n",
       "      <td>-0.990025</td>\n",
       "    </tr>\n",
       "    <tr>\n",
       "      <th>2018-10-04</th>\n",
       "      <td>1.411469</td>\n",
       "      <td>-0.696865</td>\n",
       "      <td>0.183324</td>\n",
       "      <td>1.065638</td>\n",
       "    </tr>\n",
       "    <tr>\n",
       "      <th>2018-10-05</th>\n",
       "      <td>-0.096272</td>\n",
       "      <td>0.581648</td>\n",
       "      <td>0.643107</td>\n",
       "      <td>-1.129806</td>\n",
       "    </tr>\n",
       "    <tr>\n",
       "      <th>2018-10-06</th>\n",
       "      <td>-1.005748</td>\n",
       "      <td>-0.322259</td>\n",
       "      <td>-0.628974</td>\n",
       "      <td>-0.597436</td>\n",
       "    </tr>\n",
       "  </tbody>\n",
       "</table>\n",
       "</div>"
      ],
      "text/plain": [
       "                   A         B         C         D\n",
       "2018-10-01  0.867083  0.965086  0.164496 -0.889962\n",
       "2018-10-02 -1.271351  0.166581  1.446631  0.384057\n",
       "2018-10-03 -0.873674 -0.475595  0.311296 -0.990025\n",
       "2018-10-04  1.411469 -0.696865  0.183324  1.065638\n",
       "2018-10-05 -0.096272  0.581648  0.643107 -1.129806\n",
       "2018-10-06 -1.005748 -0.322259 -0.628974 -0.597436"
      ]
     },
     "metadata": {},
     "output_type": "display_data"
    },
    {
     "data": {
      "text/plain": [
       "A   -0.873674\n",
       "B   -0.475595\n",
       "C    0.311296\n",
       "D   -0.990025\n",
       "Name: 2018-10-03 00:00:00, dtype: float64"
      ]
     },
     "metadata": {},
     "output_type": "display_data"
    },
    {
     "data": {
      "text/plain": [
       "2018-10-01    0.965086\n",
       "2018-10-02    0.166581\n",
       "2018-10-03   -0.475595\n",
       "2018-10-04   -0.696865\n",
       "2018-10-05    0.581648\n",
       "2018-10-06   -0.322259\n",
       "Freq: D, Name: B, dtype: float64"
      ]
     },
     "metadata": {},
     "output_type": "display_data"
    }
   ],
   "source": [
    "df = pd.DataFrame(np.random.randn(6,4), columns=['A','B','C','D'], index = dates)\n",
    "display(df)\n",
    "\n",
    "display(df.loc['2018-10-03'])\n",
    "display(df['B'])"
   ]
  },
  {
   "cell_type": "code",
   "execution_count": 17,
   "id": "4b23cca4-8fbe-409e-bc8c-706c8fb3526f",
   "metadata": {},
   "outputs": [
    {
     "data": {
      "text/html": [
       "<div>\n",
       "<style scoped>\n",
       "    .dataframe tbody tr th:only-of-type {\n",
       "        vertical-align: middle;\n",
       "    }\n",
       "\n",
       "    .dataframe tbody tr th {\n",
       "        vertical-align: top;\n",
       "    }\n",
       "\n",
       "    .dataframe thead th {\n",
       "        text-align: right;\n",
       "    }\n",
       "</style>\n",
       "<table border=\"1\" class=\"dataframe\">\n",
       "  <thead>\n",
       "    <tr style=\"text-align: right;\">\n",
       "      <th></th>\n",
       "      <th>A</th>\n",
       "      <th>B</th>\n",
       "      <th>C</th>\n",
       "      <th>D</th>\n",
       "      <th>E</th>\n",
       "    </tr>\n",
       "  </thead>\n",
       "  <tbody>\n",
       "    <tr>\n",
       "      <th>student 1</th>\n",
       "      <td>0.429679</td>\n",
       "      <td>1.634704</td>\n",
       "      <td>-0.831228</td>\n",
       "      <td>1.645537</td>\n",
       "      <td>1.145174</td>\n",
       "    </tr>\n",
       "    <tr>\n",
       "      <th>student 2</th>\n",
       "      <td>0.139015</td>\n",
       "      <td>-1.618983</td>\n",
       "      <td>-0.072044</td>\n",
       "      <td>0.343892</td>\n",
       "      <td>-1.762037</td>\n",
       "    </tr>\n",
       "    <tr>\n",
       "      <th>student 3</th>\n",
       "      <td>-1.172802</td>\n",
       "      <td>0.876114</td>\n",
       "      <td>-0.176247</td>\n",
       "      <td>0.715081</td>\n",
       "      <td>-0.206898</td>\n",
       "    </tr>\n",
       "  </tbody>\n",
       "</table>\n",
       "</div>"
      ],
      "text/plain": [
       "                  A         B         C         D         E\n",
       "student 1  0.429679  1.634704 -0.831228  1.645537  1.145174\n",
       "student 2  0.139015 -1.618983 -0.072044  0.343892 -1.762037\n",
       "student 3 -1.172802  0.876114 -0.176247  0.715081 -0.206898"
      ]
     },
     "execution_count": 17,
     "metadata": {},
     "output_type": "execute_result"
    }
   ],
   "source": [
    "df = pd.DataFrame(np.random.randn(3,5), columns=list('ABCDE'), index=['student 1','student 2', 'student 3'])\n",
    "df"
   ]
  },
  {
   "cell_type": "code",
   "execution_count": 18,
   "id": "e4decf9f-8edb-40e2-a5ee-4afcddbf07bb",
   "metadata": {},
   "outputs": [
    {
     "data": {
      "text/html": [
       "<div>\n",
       "<style scoped>\n",
       "    .dataframe tbody tr th:only-of-type {\n",
       "        vertical-align: middle;\n",
       "    }\n",
       "\n",
       "    .dataframe tbody tr th {\n",
       "        vertical-align: top;\n",
       "    }\n",
       "\n",
       "    .dataframe thead th {\n",
       "        text-align: right;\n",
       "    }\n",
       "</style>\n",
       "<table border=\"1\" class=\"dataframe\">\n",
       "  <thead>\n",
       "    <tr style=\"text-align: right;\">\n",
       "      <th></th>\n",
       "      <th>A</th>\n",
       "      <th>B</th>\n",
       "      <th>C</th>\n",
       "      <th>D</th>\n",
       "      <th>E</th>\n",
       "      <th>F</th>\n",
       "    </tr>\n",
       "  </thead>\n",
       "  <tbody>\n",
       "    <tr>\n",
       "      <th>0</th>\n",
       "      <td>1.0</td>\n",
       "      <td>2018-10-01</td>\n",
       "      <td>2.5</td>\n",
       "      <td>3</td>\n",
       "      <td>test</td>\n",
       "      <td>foo</td>\n",
       "    </tr>\n",
       "    <tr>\n",
       "      <th>1</th>\n",
       "      <td>1.0</td>\n",
       "      <td>2018-10-01</td>\n",
       "      <td>2.5</td>\n",
       "      <td>3</td>\n",
       "      <td>train</td>\n",
       "      <td>foo</td>\n",
       "    </tr>\n",
       "    <tr>\n",
       "      <th>2</th>\n",
       "      <td>1.0</td>\n",
       "      <td>2018-10-01</td>\n",
       "      <td>2.5</td>\n",
       "      <td>3</td>\n",
       "      <td>test</td>\n",
       "      <td>foo</td>\n",
       "    </tr>\n",
       "    <tr>\n",
       "      <th>3</th>\n",
       "      <td>1.0</td>\n",
       "      <td>2018-10-01</td>\n",
       "      <td>2.5</td>\n",
       "      <td>3</td>\n",
       "      <td>train</td>\n",
       "      <td>foo</td>\n",
       "    </tr>\n",
       "  </tbody>\n",
       "</table>\n",
       "</div>"
      ],
      "text/plain": [
       "     A          B    C  D      E    F\n",
       "0  1.0 2018-10-01  2.5  3   test  foo\n",
       "1  1.0 2018-10-01  2.5  3  train  foo\n",
       "2  1.0 2018-10-01  2.5  3   test  foo\n",
       "3  1.0 2018-10-01  2.5  3  train  foo"
      ]
     },
     "metadata": {},
     "output_type": "display_data"
    }
   ],
   "source": [
    "df2 = pd.DataFrame({ \n",
    "    'A' : 1.,\n",
    "    'B' : pd.Timestamp('20181001'),\n",
    "    'C' : pd.Series(2.5,index=list(range(4)),dtype='float32'),\n",
    "    'D' : np.array([3] * 4,dtype='int32'),\n",
    "    'E' : pd.Categorical([\"test\",\"train\",\"test\",\"train\"]),\n",
    "    'F' : 'foo' \n",
    "})\n",
    "display(df2)"
   ]
  },
  {
   "cell_type": "code",
   "execution_count": 19,
   "id": "e16eb20b-f0ed-45a8-8241-fe99fa06feb3",
   "metadata": {},
   "outputs": [
    {
     "data": {
      "text/plain": [
       "A          float64\n",
       "B    datetime64[s]\n",
       "C          float32\n",
       "D            int32\n",
       "E         category\n",
       "F           object\n",
       "dtype: object"
      ]
     },
     "execution_count": 19,
     "metadata": {},
     "output_type": "execute_result"
    }
   ],
   "source": [
    "df2.dtypes"
   ]
  },
  {
   "cell_type": "code",
   "execution_count": 1,
   "id": "031ea66b-4a73-40d3-8759-c5c32075c0e4",
   "metadata": {},
   "outputs": [
    {
     "data": {
      "text/html": [
       "<div>\n",
       "<style scoped>\n",
       "    .dataframe tbody tr th:only-of-type {\n",
       "        vertical-align: middle;\n",
       "    }\n",
       "\n",
       "    .dataframe tbody tr th {\n",
       "        vertical-align: top;\n",
       "    }\n",
       "\n",
       "    .dataframe thead th {\n",
       "        text-align: right;\n",
       "    }\n",
       "</style>\n",
       "<table border=\"1\" class=\"dataframe\">\n",
       "  <thead>\n",
       "    <tr style=\"text-align: right;\">\n",
       "      <th></th>\n",
       "      <th>Date</th>\n",
       "      <th>Description</th>\n",
       "      <th>Amount</th>\n",
       "    </tr>\n",
       "  </thead>\n",
       "  <tbody>\n",
       "    <tr>\n",
       "      <th>0</th>\n",
       "      <td>2023-11-01</td>\n",
       "      <td>Income</td>\n",
       "      <td>1000</td>\n",
       "    </tr>\n",
       "    <tr>\n",
       "      <th>1</th>\n",
       "      <td>2023-11-02</td>\n",
       "      <td>Groceries</td>\n",
       "      <td>-200</td>\n",
       "    </tr>\n",
       "    <tr>\n",
       "      <th>2</th>\n",
       "      <td>2023-11-03</td>\n",
       "      <td>Utilities</td>\n",
       "      <td>-100</td>\n",
       "    </tr>\n",
       "  </tbody>\n",
       "</table>\n",
       "</div>"
      ],
      "text/plain": [
       "         Date Description Amount\n",
       "0  2023-11-01      Income   1000\n",
       "1  2023-11-02   Groceries   -200\n",
       "2  2023-11-03   Utilities   -100"
      ]
     },
     "metadata": {},
     "output_type": "display_data"
    },
    {
     "name": "stdout",
     "output_type": "stream",
     "text": [
      "Current Balance: 700\n"
     ]
    }
   ],
   "source": [
    "import pandas as pd\n",
    "from IPython.display import display\n",
    "\n",
    "# Create a DataFrame to store transactions\n",
    "columns = ['Date', 'Description', 'Amount']\n",
    "ledger = pd.DataFrame(columns=columns)\n",
    "# display(ledger)\n",
    "\n",
    "# Init a DataFrame to store transactions\n",
    "def init_ledger():\n",
    "    return pd.DataFrame(columns=columns)\n",
    "\n",
    "# Function to add a transaction\n",
    "def add_transaction(date, description, amount):\n",
    "    global ledger\n",
    "    new_transaction = pd.DataFrame([[date, description, amount]], columns=columns)\n",
    "    ledger = pd.concat([ledger, new_transaction], ignore_index=True)\n",
    "\n",
    "# Function to view the ledger\n",
    "def view_ledger():\n",
    "    display(ledger)\n",
    "\n",
    "# Function to get the current balance\n",
    "def get_balance():\n",
    "    return ledger['Amount'].sum()\n",
    "\n",
    "ledger = init_ledger()\n",
    "\n",
    "# Adding sample transactions\n",
    "add_transaction('2023-11-01', 'Income', 1000)\n",
    "add_transaction('2023-11-02', 'Groceries', -200)\n",
    "add_transaction('2023-11-03', 'Utilities', -100)\n",
    "\n",
    "# Viewing the ledger\n",
    "view_ledger()\n",
    "\n",
    "# Checking the current balance\n",
    "print(\"Current Balance:\", get_balance())"
   ]
  },
  {
   "cell_type": "code",
   "execution_count": 4,
   "id": "add8abbb-1fac-449c-87aa-49679889f7e9",
   "metadata": {},
   "outputs": [
    {
     "data": {
      "text/plain": [
       "pandas.core.frame.DataFrame"
      ]
     },
     "execution_count": 4,
     "metadata": {},
     "output_type": "execute_result"
    }
   ],
   "source": [
    "import pandas as pd\n",
    "df = pd.DataFrame({\n",
    "    \"a\": [4, 5, 6],\n",
    "    \"b\": [7, 8, 9],\n",
    "    \"c\": [10, 11, 12]},\n",
    "index = [1, 2, 3])\n",
    "type(df)"
   ]
  },
  {
   "cell_type": "code",
   "execution_count": 9,
   "id": "4d202249-1a6f-436b-a8d5-f44cf3a28608",
   "metadata": {},
   "outputs": [],
   "source": [
    "import numpy as np\n",
    "import pandas as pd\n",
    "df = pd.DataFrame(np.random.randn(3,5), index=['student1','student2','student3'], columns=list('ABCDE'))\n",
    "\n"
   ]
  },
  {
   "cell_type": "code",
   "execution_count": 9,
   "id": "5c39f0ae-f07b-47bf-ba2e-cfdb0ea0b564",
   "metadata": {},
   "outputs": [
    {
     "data": {
      "text/html": [
       "<div>\n",
       "<style scoped>\n",
       "    .dataframe tbody tr th:only-of-type {\n",
       "        vertical-align: middle;\n",
       "    }\n",
       "\n",
       "    .dataframe tbody tr th {\n",
       "        vertical-align: top;\n",
       "    }\n",
       "\n",
       "    .dataframe thead th {\n",
       "        text-align: right;\n",
       "    }\n",
       "</style>\n",
       "<table border=\"1\" class=\"dataframe\">\n",
       "  <thead>\n",
       "    <tr style=\"text-align: right;\">\n",
       "      <th></th>\n",
       "      <th>A</th>\n",
       "      <th>B</th>\n",
       "      <th>C</th>\n",
       "      <th>D</th>\n",
       "      <th>E</th>\n",
       "      <th>F</th>\n",
       "    </tr>\n",
       "  </thead>\n",
       "  <tbody>\n",
       "    <tr>\n",
       "      <th>0</th>\n",
       "      <td>1.0</td>\n",
       "      <td>2018-10-01</td>\n",
       "      <td>2.5</td>\n",
       "      <td>3</td>\n",
       "      <td>test</td>\n",
       "      <td>foo</td>\n",
       "    </tr>\n",
       "    <tr>\n",
       "      <th>1</th>\n",
       "      <td>1.0</td>\n",
       "      <td>2018-10-01</td>\n",
       "      <td>2.5</td>\n",
       "      <td>3</td>\n",
       "      <td>train</td>\n",
       "      <td>foo</td>\n",
       "    </tr>\n",
       "    <tr>\n",
       "      <th>2</th>\n",
       "      <td>1.0</td>\n",
       "      <td>2018-10-01</td>\n",
       "      <td>2.5</td>\n",
       "      <td>3</td>\n",
       "      <td>test</td>\n",
       "      <td>foo</td>\n",
       "    </tr>\n",
       "    <tr>\n",
       "      <th>3</th>\n",
       "      <td>1.0</td>\n",
       "      <td>2018-10-01</td>\n",
       "      <td>2.5</td>\n",
       "      <td>3</td>\n",
       "      <td>train</td>\n",
       "      <td>foo</td>\n",
       "    </tr>\n",
       "  </tbody>\n",
       "</table>\n",
       "</div>"
      ],
      "text/plain": [
       "     A          B    C  D      E    F\n",
       "0  1.0 2018-10-01  2.5  3   test  foo\n",
       "1  1.0 2018-10-01  2.5  3  train  foo\n",
       "2  1.0 2018-10-01  2.5  3   test  foo\n",
       "3  1.0 2018-10-01  2.5  3  train  foo"
      ]
     },
     "execution_count": 9,
     "metadata": {},
     "output_type": "execute_result"
    }
   ],
   "source": [
    "df2 = pd.DataFrame(\n",
    "    { \n",
    "        'A' : 1.,\n",
    "        'B' : pd.Timestamp('20181001'),\n",
    "        'C' : pd.Series(2.5,index=list(range(4)),dtype='float32'),\n",
    "        'D' : np.array([3] * 4,dtype='int32'),\n",
    "        'E' : pd.Categorical([\"test\",\"train\",\"test\",\"train\"]),\n",
    "        'F' : 'foo' })\n",
    "df2"
   ]
  },
  {
   "cell_type": "code",
   "execution_count": 8,
   "id": "50b2d1a4-8d1f-43c9-9148-05c675d028ca",
   "metadata": {},
   "outputs": [
    {
     "data": {
      "text/html": [
       "<div>\n",
       "<style scoped>\n",
       "    .dataframe tbody tr th:only-of-type {\n",
       "        vertical-align: middle;\n",
       "    }\n",
       "\n",
       "    .dataframe tbody tr th {\n",
       "        vertical-align: top;\n",
       "    }\n",
       "\n",
       "    .dataframe thead th {\n",
       "        text-align: right;\n",
       "    }\n",
       "</style>\n",
       "<table border=\"1\" class=\"dataframe\">\n",
       "  <thead>\n",
       "    <tr style=\"text-align: right;\">\n",
       "      <th></th>\n",
       "      <th>A</th>\n",
       "      <th>B</th>\n",
       "      <th>C</th>\n",
       "      <th>D</th>\n",
       "      <th>E</th>\n",
       "      <th>F</th>\n",
       "    </tr>\n",
       "  </thead>\n",
       "  <tbody>\n",
       "    <tr>\n",
       "      <th>0</th>\n",
       "      <td>1.0</td>\n",
       "      <td>2018-10-01</td>\n",
       "      <td>2.5</td>\n",
       "      <td>3</td>\n",
       "      <td>test</td>\n",
       "      <td>foo</td>\n",
       "    </tr>\n",
       "    <tr>\n",
       "      <th>1</th>\n",
       "      <td>1.0</td>\n",
       "      <td>2018-10-01</td>\n",
       "      <td>2.5</td>\n",
       "      <td>3</td>\n",
       "      <td>train</td>\n",
       "      <td>foo</td>\n",
       "    </tr>\n",
       "    <tr>\n",
       "      <th>2</th>\n",
       "      <td>1.0</td>\n",
       "      <td>2018-10-01</td>\n",
       "      <td>2.5</td>\n",
       "      <td>3</td>\n",
       "      <td>test</td>\n",
       "      <td>foo</td>\n",
       "    </tr>\n",
       "    <tr>\n",
       "      <th>3</th>\n",
       "      <td>1.0</td>\n",
       "      <td>2018-10-01</td>\n",
       "      <td>2.5</td>\n",
       "      <td>3</td>\n",
       "      <td>train</td>\n",
       "      <td>foo</td>\n",
       "    </tr>\n",
       "  </tbody>\n",
       "</table>\n",
       "</div>"
      ],
      "text/plain": [
       "     A          B    C  D      E    F\n",
       "0  1.0 2018-10-01  2.5  3   test  foo\n",
       "1  1.0 2018-10-01  2.5  3  train  foo\n",
       "2  1.0 2018-10-01  2.5  3   test  foo\n",
       "3  1.0 2018-10-01  2.5  3  train  foo"
      ]
     },
     "execution_count": 8,
     "metadata": {},
     "output_type": "execute_result"
    }
   ],
   "source": [
    "df3 = pd.DataFrame(\n",
    "    [\n",
    "        {'A':1.0, 'B': pd.Timestamp('20181001'), 'C': 2.5, 'D': 3, 'E': 'test', 'F': 'foo'},\n",
    "        {'A':1.0, 'B': pd.Timestamp('20181001'), 'C': 2.5, 'D': 3, 'E': 'train', 'F': 'foo'},\n",
    "        {'A':1.0, 'B': pd.Timestamp('20181001'), 'C': 2.5, 'D': 3, 'E': 'test', 'F': 'foo'},\n",
    "        {'A':1.0, 'B': pd.Timestamp('20181001'), 'C': 2.5, 'D': 3, 'E': 'train', 'F': 'foo'}\n",
    "    ]\n",
    ")\n",
    "df3"
   ]
  },
  {
   "cell_type": "markdown",
   "id": "8ae1b513-d7e5-4966-971c-51144afcc04b",
   "metadata": {},
   "source": [
    "## Kết thúc"
   ]
  }
 ],
 "metadata": {
  "kernelspec": {
   "display_name": "Python 3 (ipykernel)",
   "language": "python",
   "name": "python3"
  },
  "language_info": {
   "codemirror_mode": {
    "name": "ipython",
    "version": 3
   },
   "file_extension": ".py",
   "mimetype": "text/x-python",
   "name": "python",
   "nbconvert_exporter": "python",
   "pygments_lexer": "ipython3",
   "version": "3.12.1"
  }
 },
 "nbformat": 4,
 "nbformat_minor": 5
}
