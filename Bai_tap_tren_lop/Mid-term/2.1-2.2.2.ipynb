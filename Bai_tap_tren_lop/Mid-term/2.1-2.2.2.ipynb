{
 "cells": [
  {
   "cell_type": "markdown",
   "id": "7d9e02ee-fdc5-4846-a625-1cf1b1a60ca1",
   "metadata": {},
   "source": [
    "## 2.1.2. Bài làm mẫu  \n",
    "### Bài toán 1: Xây dựng cây quyết định và rừng cây với dữ liệu \"Default of Credit Card Clients\"\n",
    "---\n",
    "**Nguồn dữ liệu:** [https://www.kaggle.com/datasets/uciml/default-of-credit-card-clients-dataset](https://www.kaggle.com/datasets/uciml/default-of-credit-card-clients-dataset)"
   ]
  },
  {
   "cell_type": "markdown",
   "id": "c8b38f4e-1d0e-4721-a73a-f549feb5c37d",
   "metadata": {},
   "source": [
    "#### Nhiệm vụ 1: Xây dựng cây quyết định bằng thư viện Scikit-Learn"
   ]
  },
  {
   "cell_type": "markdown",
   "id": "448fa69f-1fde-4100-8a87-eacdb5ffbcab",
   "metadata": {},
   "source": [
    "### 1. Cài đặt và import các thư viện cần thiết"
   ]
  },
  {
   "cell_type": "code",
   "execution_count": 23,
   "id": "bd911005-273f-4fae-8a5e-a868f6be8c98",
   "metadata": {},
   "outputs": [
    {
     "name": "stdout",
     "output_type": "stream",
     "text": [
      "Requirement already satisfied: numpy in /home/codespace/.local/lib/python3.12/site-packages (2.3.1)\n",
      "Requirement already satisfied: pandas in /home/codespace/.local/lib/python3.12/site-packages (2.3.1)\n",
      "Requirement already satisfied: matplotlib in /home/codespace/.local/lib/python3.12/site-packages (3.10.3)\n",
      "Requirement already satisfied: scikit-learn in /home/codespace/.local/lib/python3.12/site-packages (1.7.0)\n",
      "Requirement already satisfied: graphviz in /usr/local/python/3.12.1/lib/python3.12/site-packages (0.21)\n",
      "Requirement already satisfied: python-dateutil>=2.8.2 in /home/codespace/.local/lib/python3.12/site-packages (from pandas) (2.9.0.post0)\n",
      "Requirement already satisfied: pytz>=2020.1 in /home/codespace/.local/lib/python3.12/site-packages (from pandas) (2025.2)\n",
      "Requirement already satisfied: tzdata>=2022.7 in /home/codespace/.local/lib/python3.12/site-packages (from pandas) (2025.2)\n",
      "Requirement already satisfied: contourpy>=1.0.1 in /home/codespace/.local/lib/python3.12/site-packages (from matplotlib) (1.3.2)\n",
      "Requirement already satisfied: cycler>=0.10 in /home/codespace/.local/lib/python3.12/site-packages (from matplotlib) (0.12.1)\n",
      "Requirement already satisfied: fonttools>=4.22.0 in /home/codespace/.local/lib/python3.12/site-packages (from matplotlib) (4.58.5)\n",
      "Requirement already satisfied: kiwisolver>=1.3.1 in /home/codespace/.local/lib/python3.12/site-packages (from matplotlib) (1.4.8)\n",
      "Requirement already satisfied: packaging>=20.0 in /home/codespace/.local/lib/python3.12/site-packages (from matplotlib) (25.0)\n",
      "Requirement already satisfied: pillow>=8 in /home/codespace/.local/lib/python3.12/site-packages (from matplotlib) (11.3.0)\n",
      "Requirement already satisfied: pyparsing>=2.3.1 in /home/codespace/.local/lib/python3.12/site-packages (from matplotlib) (3.2.3)\n",
      "Requirement already satisfied: scipy>=1.8.0 in /home/codespace/.local/lib/python3.12/site-packages (from scikit-learn) (1.16.0)\n",
      "Requirement already satisfied: joblib>=1.2.0 in /home/codespace/.local/lib/python3.12/site-packages (from scikit-learn) (1.5.1)\n",
      "Requirement already satisfied: threadpoolctl>=3.1.0 in /home/codespace/.local/lib/python3.12/site-packages (from scikit-learn) (3.6.0)\n",
      "Requirement already satisfied: six>=1.5 in /home/codespace/.local/lib/python3.12/site-packages (from python-dateutil>=2.8.2->pandas) (1.17.0)\n",
      "\n",
      "\u001b[1m[\u001b[0m\u001b[34;49mnotice\u001b[0m\u001b[1;39;49m]\u001b[0m\u001b[39;49m A new release of pip is available: \u001b[0m\u001b[31;49m25.1.1\u001b[0m\u001b[39;49m -> \u001b[0m\u001b[32;49m25.2\u001b[0m\n",
      "\u001b[1m[\u001b[0m\u001b[34;49mnotice\u001b[0m\u001b[1;39;49m]\u001b[0m\u001b[39;49m To update, run: \u001b[0m\u001b[32;49mpython3 -m pip install --upgrade pip\u001b[0m\n"
     ]
    }
   ],
   "source": [
    "!pip install numpy pandas matplotlib scikit-learn graphviz"
   ]
  },
  {
   "cell_type": "code",
   "execution_count": 24,
   "id": "c6869202-e122-423e-b0b5-10e263bfe2d6",
   "metadata": {},
   "outputs": [],
   "source": [
    "import numpy as np\n",
    "import pandas as pd\n",
    "import matplotlib.pyplot as plt\n",
    "import matplotlib as mpl\n",
    "import graphviz\n",
    "from sklearn import tree\n",
    "from sklearn.model_selection import train_test_split\n",
    "\n",
    "%matplotlib inline\n",
    "mpl.rcParams['figure.dpi'] = 100"
   ]
  },
  {
   "cell_type": "markdown",
   "id": "aa50d456-4c6e-4e88-8f40-ca8fa278c240",
   "metadata": {},
   "source": [
    "### 2. Nạp dữ liệu và loại bỏ các biến không cần thiết"
   ]
  },
  {
   "cell_type": "code",
   "execution_count": 25,
   "id": "7f2193ed-7e43-4cb8-9598-c045026ff72e",
   "metadata": {},
   "outputs": [
    {
     "data": {
      "text/plain": [
       "['LIMIT_BAL',\n",
       " 'EDUCATION',\n",
       " 'MARRIAGE',\n",
       " 'AGE',\n",
       " 'PAY_0',\n",
       " 'BILL_AMT1',\n",
       " 'BILL_AMT2',\n",
       " 'BILL_AMT3',\n",
       " 'BILL_AMT4',\n",
       " 'BILL_AMT5',\n",
       " 'BILL_AMT6',\n",
       " 'PAY_AMT1',\n",
       " 'PAY_AMT2',\n",
       " 'PAY_AMT3',\n",
       " 'PAY_AMT4',\n",
       " 'PAY_AMT5',\n",
       " 'PAY_AMT6',\n",
       " 'default.payment.next.month']"
      ]
     },
     "execution_count": 25,
     "metadata": {},
     "output_type": "execute_result"
    }
   ],
   "source": [
    "import pandas as pd\n",
    "df = pd.read_csv('UCI_Credit_Card.csv')\n",
    "df.head()\n",
    "features_response = df.columns.tolist()\n",
    "\n",
    "items_to_remove = [\n",
    "    'ID', 'SEX', 'PAY_2', 'PAY_3', 'PAY_4', 'PAY_5', 'PAY_6',\n",
    "    'EDUCATION_CAT', 'graduate school', 'high school', 'none',\n",
    "    'others', 'university'\n",
    "]\n",
    "\n",
    "features_response = [item for item in features_response if item not in items_to_remove]\n",
    "features_response"
   ]
  },
  {
   "cell_type": "markdown",
   "id": "9b2a75a7-61ed-461f-b996-780c92535211",
   "metadata": {},
   "source": [
    "### 3. Chuẩn bị dữ liệu cho tập train và tập test"
   ]
  },
  {
   "cell_type": "code",
   "execution_count": 3,
   "id": "46070b67-13ac-4f58-be50-d700d2f097b5",
   "metadata": {},
   "outputs": [
    {
     "ename": "NameError",
     "evalue": "name 'df' is not defined",
     "output_type": "error",
     "traceback": [
      "\u001b[31m---------------------------------------------------------------------------\u001b[39m",
      "\u001b[31mNameError\u001b[39m                                 Traceback (most recent call last)",
      "\u001b[36mCell\u001b[39m\u001b[36m \u001b[39m\u001b[32mIn[3]\u001b[39m\u001b[32m, line 5\u001b[39m\n\u001b[32m      1\u001b[39m \u001b[38;5;28;01mfrom\u001b[39;00m\u001b[38;5;250m \u001b[39m\u001b[34;01msklearn\u001b[39;00m\u001b[34;01m.\u001b[39;00m\u001b[34;01mmodel_selection\u001b[39;00m\u001b[38;5;250m \u001b[39m\u001b[38;5;28;01mimport\u001b[39;00m train_test_split\n\u001b[32m      2\u001b[39m \u001b[38;5;28;01mfrom\u001b[39;00m\u001b[38;5;250m \u001b[39m\u001b[34;01msklearn\u001b[39;00m\u001b[38;5;250m \u001b[39m\u001b[38;5;28;01mimport\u001b[39;00m tree\n\u001b[32m      4\u001b[39m X_train, X_test, y_train, y_test = train_test_split(\n\u001b[32m----> \u001b[39m\u001b[32m5\u001b[39m     \u001b[43mdf\u001b[49m[features_response[:-\u001b[32m1\u001b[39m]].values,\n\u001b[32m      6\u001b[39m     df[\u001b[33m'\u001b[39m\u001b[33mdefault.payment.next.month\u001b[39m\u001b[33m'\u001b[39m].values,\n\u001b[32m      7\u001b[39m     test_size=\u001b[32m0.2\u001b[39m,\n\u001b[32m      8\u001b[39m     random_state=\u001b[32m24\u001b[39m\n\u001b[32m      9\u001b[39m )\n",
      "\u001b[31mNameError\u001b[39m: name 'df' is not defined"
     ]
    }
   ],
   "source": [
    "from sklearn.model_selection import train_test_split\n",
    "from sklearn import tree\n",
    "\n",
    "X_train, X_test, y_train, y_test = train_test_split(\n",
    "    df[features_response[:-1]].values,\n",
    "    df['default.payment.next.month'].values,\n",
    "    test_size=0.2,\n",
    "    random_state=24\n",
    ")"
   ]
  },
  {
   "cell_type": "markdown",
   "id": "fab56445-3ef9-4739-b8c3-909d4331ef02",
   "metadata": {},
   "source": [
    "### 4. Xây dựng cây quyết định từ lớp DecisionTreeClassifier có trong thư viện Scikit-Learn"
   ]
  },
  {
   "cell_type": "code",
   "execution_count": null,
   "id": "917a437a-613f-4632-bae4-815bc3611b9e",
   "metadata": {},
   "outputs": [],
   "source": [
    "dt = tree.DecisionTreeClassifier(max_depth=2)\n",
    "dt.fit(X_train, y_train)"
   ]
  },
  {
   "cell_type": "code",
   "execution_count": null,
   "id": "be4a45fe-e444-4a4a-a496-4bd4b4910fef",
   "metadata": {},
   "outputs": [],
   "source": [
    "import graphviz\n",
    "import matplotlib.pyplot as plt\n",
    "\n",
    "plt.figure(figsize=(20, 10))\n",
    "tree.plot_tree(\n",
    "    dt,\n",
    "    feature_names=features_response[:-1],\n",
    "    class_names=['Not defaulted', 'Defaulted'],\n",
    "    filled=True\n",
    ")\n",
    "plt.show()"
   ]
  },
  {
   "cell_type": "code",
   "execution_count": null,
   "id": "f70462c6-fa35-4c79-97fa-c5bcd038fcb2",
   "metadata": {},
   "outputs": [],
   "source": [
    "plt.savefig(\"decision_tree.png\", dpi=300)"
   ]
  },
  {
   "cell_type": "markdown",
   "id": "8967d696-346e-4ab9-9634-d499f8cece99",
   "metadata": {},
   "source": [
    "### Nhiệm vụ 2: Tìm tham số tối ưu cho cây quyết định bằng GridSearchCV và vẽ biểu đồ đánh giá mô \n"
   ]
  },
  {
   "cell_type": "markdown",
   "id": "8494405c-d7d6-4ad5-936e-9b9b0b06ef4f",
   "metadata": {},
   "source": [
    "### 1. Chuẩn bị dữ liệu"
   ]
  },
  {
   "cell_type": "code",
   "execution_count": null,
   "id": "26a2d6a3-53db-4606-95e2-d2f235c6c6ba",
   "metadata": {},
   "outputs": [],
   "source": [
    "import numpy as np\n",
    "import pandas as pd\n",
    "import matplotlib.pyplot as plt\n",
    "import matplotlib as mpl\n",
    "import graphviz\n",
    "from sklearn import tree\n",
    "from sklearn.model_selection import train_test_split\n",
    "\n",
    "%matplotlib inline\n",
    "mpl.rcParams['figure.dpi'] = 100"
   ]
  },
  {
   "cell_type": "code",
   "execution_count": null,
   "id": "adf1b4f9-8c8a-460b-8430-0f0579c210f4",
   "metadata": {},
   "outputs": [],
   "source": [
    "import pandas as pd\n",
    "df = pd.read_csv('UCI_Credit_Card.csv')\n",
    "df.head()\n",
    "features_response = df.columns.tolist()\n",
    "\n",
    "items_to_remove = [\n",
    "    'ID', 'SEX', 'PAY_2', 'PAY_3', 'PAY_4', 'PAY_5', 'PAY_6',\n",
    "    'EDUCATION_CAT', 'graduate school', 'high school', 'none',\n",
    "    'others', 'university'\n",
    "]\n",
    "\n",
    "features_response = [item for item in features_response if item not in items_to_remove]\n",
    "features_response"
   ]
  },
  {
   "cell_type": "code",
   "execution_count": null,
   "id": "2976de3b-6dda-4cbe-b10f-abff66acdada",
   "metadata": {},
   "outputs": [],
   "source": [
    "from sklearn.model_selection import train_test_split\n",
    "from sklearn import tree\n",
    "\n",
    "X_train, X_test, y_train, y_test = train_test_split(\n",
    "    df[features_response[:-1]].values,\n",
    "    df['default.payment.next.month'].values,\n",
    "    test_size=0.2,\n",
    "    random_state=24\n",
    ")"
   ]
  },
  {
   "cell_type": "markdown",
   "id": "4709feb9-743a-4bf3-8e89-8d6ec4d3c882",
   "metadata": {},
   "source": [
    "### 2. Tạo cây quyết định và xác định các giá trị tham số có thể chọn để tìm tham số tối ưu"
   ]
  },
  {
   "cell_type": "code",
   "execution_count": null,
   "id": "c3ae7561-eb27-4d64-9f33-480df6b509b7",
   "metadata": {},
   "outputs": [],
   "source": [
    "from sklearn.model_selection import GridSearchCV\n",
    "\n",
    "params = {'max_depth': [1, 2, 4, 6, 8, 10, 12]}\n",
    "dt = tree.DecisionTreeClassifier(random_state=24)\n",
    "\n",
    "cv = GridSearchCV(\n",
    "    dt,\n",
    "    param_grid=params,\n",
    "    scoring='roc_auc',       \n",
    "    n_jobs=None,\n",
    "    refit=True,\n",
    "    cv=4,                     \n",
    "    verbose=1,\n",
    "    error_score=np.nan,\n",
    "    return_train_score=True\n",
    ")\n",
    "\n",
    "cv.fit(X_train, y_train)"
   ]
  },
  {
   "cell_type": "markdown",
   "id": "5e43bc6f-9ac6-4d64-a484-9910ad250c13",
   "metadata": {},
   "source": [
    "## Giải thích tham số:\n",
    "\n",
    "scoring='roc_auc': dùng diện tích dưới đường cong ROC để đánh giá\n",
    "\n",
    "cv=4: chia dữ liệu thành 4 phần để cross-validation\n",
    "\n",
    "return_train_score=True: lưu cả điểm train để so sánh bias và variance"
   ]
  },
  {
   "cell_type": "markdown",
   "id": "f2a5f70d-2ff9-4009-9e43-4bdf19bb3834",
   "metadata": {},
   "source": [
    "### 3. Vẽ biểu đồ đánh giá mô hình với các tham số chiều sâu của cây khác nhau"
   ]
  },
  {
   "cell_type": "code",
   "execution_count": null,
   "id": "2495bda8-bd9b-40f3-9f4e-24d2cdaab51c",
   "metadata": {},
   "outputs": [],
   "source": [
    "cv_results_df = pd.DataFrame(cv.cv_results_)\n",
    "cv_results_df[['param_max_depth', 'mean_train_score', 'mean_test_score']].head()\n",
    "\n",
    "ax = plt.axes()\n",
    "\n",
    "# Vẽ đường train\n",
    "ax.errorbar(\n",
    "    cv_results_df['param_max_depth'],\n",
    "    cv_results_df['mean_train_score'],\n",
    "    yerr=cv_results_df['std_train_score']/np.sqrt(4),\n",
    "    label='Mean ± 1 SE training scores'\n",
    ")\n",
    "\n",
    "# Vẽ đường test\n",
    "ax.errorbar(\n",
    "    cv_results_df['param_max_depth'],\n",
    "    cv_results_df['mean_test_score'],\n",
    "    yerr=cv_results_df['std_test_score']/np.sqrt(4),\n",
    "    label='Mean ± 1 SE testing scores'\n",
    ")\n",
    "\n",
    "ax.legend()\n",
    "plt.xlabel('max_depth')\n",
    "plt.ylabel('ROC AUC')\n",
    "plt.title('Đánh giá hiệu quả Decision Tree với các độ sâu khác nhau')\n",
    "plt.savefig(\"decision_tree_depth.png\", dpi=300, bbox_inches='tight')\n",
    "plt.show()"
   ]
  },
  {
   "cell_type": "code",
   "execution_count": null,
   "id": "85c4790b-a243-4bd6-bb45-26a44b84d40a",
   "metadata": {},
   "outputs": [],
   "source": []
  },
  {
   "cell_type": "code",
   "execution_count": null,
   "id": "ca44b954-7cee-4aa3-9851-ec5d09e72a51",
   "metadata": {},
   "outputs": [],
   "source": []
  }
 ],
 "metadata": {
  "kernelspec": {
   "display_name": "Python 3 (ipykernel)",
   "language": "python",
   "name": "python3"
  },
  "language_info": {
   "codemirror_mode": {
    "name": "ipython",
    "version": 3
   },
   "file_extension": ".py",
   "mimetype": "text/x-python",
   "name": "python",
   "nbconvert_exporter": "python",
   "pygments_lexer": "ipython3",
   "version": "3.12.1"
  }
 },
 "nbformat": 4,
 "nbformat_minor": 5
}
