{
  "nbformat": 4,
  "nbformat_minor": 0,
  "metadata": {
    "colab": {
      "provenance": [],
      "authorship_tag": "ABX9TyMMnFoboRqZso20HmYsHN3K",
      "include_colab_link": true
    },
    "kernelspec": {
      "name": "python3",
      "display_name": "Python 3"
    },
    "language_info": {
      "name": "python"
    }
  },
  "cells": [
    {
      "cell_type": "markdown",
      "metadata": {
        "id": "view-in-github",
        "colab_type": "text"
      },
      "source": [
        "<a href=\"https://colab.research.google.com/github/quocdat02082005/bai_tap_thuc_hanh/blob/main/Bai_tap_thuc_hanh.ipynb\" target=\"_parent\"><img src=\"https://colab.research.google.com/assets/colab-badge.svg\" alt=\"Open In Colab\"/></a>"
      ]
    },
    {
      "cell_type": "markdown",
      "source": [
        "## Bài tập thực hành\n"
      ],
      "metadata": {
        "id": "f-20y-Ha4_8t"
      }
    },
    {
      "cell_type": "code",
      "source": [
        "# Bài 1. In nhãn\n",
        "print(\"**************************\")\n",
        "print(\"* Truong: Dai Hoc UEH    *\")\n",
        "print(\"* Khoa: CNTT             *\")\n",
        "print(\"* Ho ten:                *\")\n",
        "print(\"**************************\")"
      ],
      "metadata": {
        "colab": {
          "base_uri": "https://localhost:8080/"
        },
        "id": "Sdb1ltid5Aa8",
        "outputId": "2b8cf863-2b6c-4746-bd74-77f10b8c94bd"
      },
      "execution_count": 6,
      "outputs": [
        {
          "output_type": "stream",
          "name": "stdout",
          "text": [
            "**************************\n",
            "* Truong: Dai Hoc UEH    *\n",
            "* Khoa: CNTT             *\n",
            "* Ho ten:                *\n",
            "**************************\n"
          ]
        }
      ]
    },
    {
      "cell_type": "code",
      "source": [
        "# Bài 2. Tính diện tích và chu vi hình tròn\n",
        "\n",
        "# Nhap du lieu\n",
        "r = int(input(\"Nhap ban kinh R: \"))\n",
        "\n",
        "# Gan bien\n",
        "pi = 3.14\n",
        "\n",
        "# In ra ket qua\n",
        "print(\"Dien tich S = \", pi * r ** 2)\n",
        "print(\"Chu_vi P = \", round(2 * pi * r, 1))\n",
        "\n"
      ],
      "metadata": {
        "colab": {
          "base_uri": "https://localhost:8080/"
        },
        "id": "ZqjwbvSj6jOU",
        "outputId": "af9d0155-dd35-421d-cd6d-220f13e7ff58"
      },
      "execution_count": 12,
      "outputs": [
        {
          "output_type": "stream",
          "name": "stdout",
          "text": [
            "Nhap ban kinh R: 5\n",
            "Dien tich S =  78.5\n",
            "Chu_vi P =  31.4\n"
          ]
        }
      ]
    },
    {
      "cell_type": "code",
      "source": [
        "# Bài 3. Đổi sang giây\n",
        "\n",
        "# Nhap du lieu\n",
        "h = int(input(\"Nhap so gio: \"))\n",
        "s = int(input(\"Nhap so giay: \"))\n",
        "m = int(input(\"Nhap so phut: \"))\n",
        "\n",
        "# Chuyen doi\n",
        "hours_giay = h * 3600\n",
        "minute_giay = m * 60\n",
        "tong_so_giay = hours_giay + minute_giay + m\n",
        "\n",
        "# In ra ket qua\n",
        "print(\"Tong so giay cua \" + str(h) + \":\" + str(s) + \":\" + str(m) + \" la \" + str(tong_so_giay) + \" giay\")\n",
        "\n"
      ],
      "metadata": {
        "colab": {
          "base_uri": "https://localhost:8080/"
        },
        "id": "a_m6Qs_w8UhV",
        "outputId": "35c86879-8e68-44ff-e92a-b78c4b018010"
      },
      "execution_count": 17,
      "outputs": [
        {
          "output_type": "stream",
          "name": "stdout",
          "text": [
            "Nhap so gio: 1\n",
            "Nhap so giay: 20\n",
            "Nhap so phut: 10\n",
            "Tong so giay cua 1:20:10 la 4210 giay\n"
          ]
        }
      ]
    },
    {
      "cell_type": "code",
      "source": [
        "# Bài 4. Đổi sang giờ phút giây\n",
        "\n",
        "# Nhap du lieu\n",
        "so_giay = int(input(\"Nhap vao tong so giay \"))\n",
        "\n",
        "#Phep tinh\n",
        "h = so_giay // 3600\n",
        "m = (so_giay % 3600) // 60\n",
        "s = (so_giay % 3600) % 60\n",
        "\n",
        "print(str(so_giay) + \" giay co dang \" + str(h) + \":\" + str(m) + \":\" + str(s))"
      ],
      "metadata": {
        "colab": {
          "base_uri": "https://localhost:8080/"
        },
        "id": "kjBp7vzCCPpb",
        "outputId": "61876c27-85b2-40ac-b171-07f9a210ac3f"
      },
      "execution_count": 20,
      "outputs": [
        {
          "output_type": "stream",
          "name": "stdout",
          "text": [
            "Nhap vao tong so giay 4810\n",
            "4810 giay co dang 1:20:10\n"
          ]
        }
      ]
    },
    {
      "cell_type": "code",
      "source": [
        "# Bài 5. Tính diện tích tam giác\n",
        "\n",
        "# Nhap du lieu\n",
        "a = float(input(\"Nhap do dai canh a: \"))\n",
        "b = float(input(\"Nhap do dai canh b: \"))\n",
        "c = float(input(\"Nhap do dai canh c: \"))\n",
        "\n",
        "#Phep tinh\n",
        "p = (a + b +c) / 2\n",
        "S = (p * (p - a) * (p - b) * (p - c)) ** 0.5\n",
        "\n",
        "#In ket qua\n",
        "print(\"Dien tich tam giac S =\", round(S, 2))"
      ],
      "metadata": {
        "colab": {
          "base_uri": "https://localhost:8080/"
        },
        "id": "W6DG2ybGG_0R",
        "outputId": "84ca28a9-cee5-4f1d-9d23-67e269011e76"
      },
      "execution_count": 23,
      "outputs": [
        {
          "output_type": "stream",
          "name": "stdout",
          "text": [
            "Nhap do dai canh a: 2\n",
            "Nhap do dai canh b: 4\n",
            "Nhap do dai canh c: 3\n",
            "Dien tich tam giac S = 2.9\n"
          ]
        }
      ]
    },
    {
      "cell_type": "code",
      "source": [
        "# Bài 6. Hàm mũ\n",
        "\n",
        "# Nhap du lieu\n",
        "a = float(input(\"Nhap so thuc a: \"))\n",
        "n = int(input(\"Nhap so mu n: \"))\n",
        "\n",
        "# In ket qua\n",
        "print(\"Ket qua 2^4 =\", round(a ** n))"
      ],
      "metadata": {
        "colab": {
          "base_uri": "https://localhost:8080/"
        },
        "id": "GLh6xwrFLHuo",
        "outputId": "498a02eb-b113-4191-b9f2-b12b48e1cc60"
      },
      "execution_count": 25,
      "outputs": [
        {
          "output_type": "stream",
          "name": "stdout",
          "text": [
            "Nhap so thuc a: 2\n",
            "Nhap so mu n: 4\n",
            "Ket qua 2^4 = 16\n"
          ]
        }
      ]
    },
    {
      "cell_type": "code",
      "source": [
        "# Bài 7. Đảo số\n",
        "\n",
        "# Nhap du lieu\n",
        "x = int(input(\"x = \"))\n",
        "y = int(str(x)[::-1])\n",
        "\n",
        "# In ket qua\n",
        "print(\"Thu tu thay doi cua x\", x, \"la\", y)"
      ],
      "metadata": {
        "colab": {
          "base_uri": "https://localhost:8080/"
        },
        "id": "lb7i7nUOL6cK",
        "outputId": "62ddb9db-1a9b-492d-972d-b0bd4050933d"
      },
      "execution_count": 32,
      "outputs": [
        {
          "output_type": "stream",
          "name": "stdout",
          "text": [
            "x = 1234\n",
            "Thu tu thay doi cua x 1234 la 4321\n"
          ]
        }
      ]
    },
    {
      "cell_type": "code",
      "source": [
        "# Bài 8. Độ sang radion\n",
        "\n",
        "# Nhap du lieu\n",
        "degree = float(input(\"Nhap goc (do): \"))\n",
        "\n",
        "# Gan bien\n",
        "pi = 3.141592653589793\n",
        "radian = degree * (pi / 180)\n",
        "\n",
        "# In ket qua\n",
        "print(\"Goc\", degree, \"do =\", round(radian, 2), \"radian\")"
      ],
      "metadata": {
        "colab": {
          "base_uri": "https://localhost:8080/"
        },
        "id": "cL2zR88yNIZi",
        "outputId": "85da1b53-2e0e-42b2-f683-10466a7b6268"
      },
      "execution_count": 34,
      "outputs": [
        {
          "output_type": "stream",
          "name": "stdout",
          "text": [
            "Nhap goc (do): 10\n",
            "Goc 10.0 do = 0.17 radian\n"
          ]
        }
      ]
    },
    {
      "cell_type": "code",
      "source": [
        "# Bài 9. Hàm số 1\n",
        "\n",
        "# Thu vien\n",
        "import math\n",
        "\n",
        "# Nhap du lieu\n",
        "x = float(input(\"x = \"))\n",
        "\n",
        "# Dieu kien va phep tinh\n",
        "if x < 0:\n",
        "    print(\"x phai >= 0 de y1, y2 co gia tri thuc\")\n",
        "else:\n",
        "  y1 = 4 * (x**2 + 10*x*math.sqrt(x) + 3*x + 1)\n",
        "  y2 = (math.sin(math.pi * x**2) + math.sqrt(x**2 + 1)) / (math.exp(2*x) + math.cos((math.pi/4)*x))\n",
        "\n",
        "  # In ket qua\n",
        "  print(\"y1 =\", round(y1, 2))\n",
        "  print(\"y2 =\", round(y2, 2))"
      ],
      "metadata": {
        "colab": {
          "base_uri": "https://localhost:8080/"
        },
        "id": "2XhZji3qPKGO",
        "outputId": "f9aa6d12-e823-48e9-936e-f8b6a0b88845"
      },
      "execution_count": 38,
      "outputs": [
        {
          "output_type": "stream",
          "name": "stdout",
          "text": [
            "x = 1\n",
            "y1 = 60.0\n",
            "y2 = 0.17\n"
          ]
        }
      ]
    },
    {
      "cell_type": "code",
      "source": [
        "# Bài 10. Khoảng cách\n",
        "\n",
        "# Dua thu vien\n",
        "import math\n",
        "\n",
        "# Nhap du lieu\n",
        "x1 = float(input(\"Nhap x1: \"))\n",
        "y1 = float(input(\"Nhap y1: \"))\n",
        "x2 = float(input(\"Nhap x2: \"))\n",
        "y2 = float(input(\"Nhap y2: \"))\n",
        "\n",
        "# Phep tinh\n",
        "d = math.sqrt((x2 - x1)**2 + (y2 - y1)**2)\n",
        "\n",
        "# In du lieu\n",
        "print(\"Khoang cach cua AB =\", round(d, 2))"
      ],
      "metadata": {
        "colab": {
          "base_uri": "https://localhost:8080/"
        },
        "id": "JYyVD-rQQz00",
        "outputId": "c4cc55bb-540b-4706-8bb1-ced8d017a7ec"
      },
      "execution_count": 3,
      "outputs": [
        {
          "output_type": "stream",
          "name": "stdout",
          "text": [
            "Nhap x1: 4\n",
            "Nhap y1: 6\n",
            "Nhap x2: 8\n",
            "Nhap y2: 3\n",
            "Khoang cach cua AB = 5.0\n"
          ]
        }
      ]
    }
  ]
}