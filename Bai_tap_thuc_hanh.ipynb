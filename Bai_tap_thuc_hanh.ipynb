{
  "nbformat": 4,
  "nbformat_minor": 0,
  "metadata": {
    "colab": {
      "provenance": [],
      "authorship_tag": "ABX9TyPdcS6HtzNxWP2b4IN3vib6",
      "include_colab_link": true
    },
    "kernelspec": {
      "name": "python3",
      "display_name": "Python 3"
    },
    "language_info": {
      "name": "python"
    }
  },
  "cells": [
    {
      "cell_type": "markdown",
      "metadata": {
        "id": "view-in-github",
        "colab_type": "text"
      },
      "source": [
        "<a href=\"https://colab.research.google.com/github/quocdat02082005/bai_tap_thuc_hanh/blob/main/Bai_tap_thuc_hanh.ipynb\" target=\"_parent\"><img src=\"https://colab.research.google.com/assets/colab-badge.svg\" alt=\"Open In Colab\"/></a>"
      ]
    },
    {
      "cell_type": "markdown",
      "source": [
        "## Bài tập thực hành\n"
      ],
      "metadata": {
        "id": "f-20y-Ha4_8t"
      }
    },
    {
      "cell_type": "code",
      "source": [
        "# Bài 1. In nhãn\n",
        "print(\"**************************\")\n",
        "print(\"* Truong: Dai Hoc UEH    *\")\n",
        "print(\"* Khoa: CNTT             *\")\n",
        "print(\"* Ho ten:                *\")\n",
        "print(\"**************************\")"
      ],
      "metadata": {
        "colab": {
          "base_uri": "https://localhost:8080/"
        },
        "id": "Sdb1ltid5Aa8",
        "outputId": "2b8cf863-2b6c-4746-bd74-77f10b8c94bd"
      },
      "execution_count": 6,
      "outputs": [
        {
          "output_type": "stream",
          "name": "stdout",
          "text": [
            "**************************\n",
            "* Truong: Dai Hoc UEH    *\n",
            "* Khoa: CNTT             *\n",
            "* Ho ten:                *\n",
            "**************************\n"
          ]
        }
      ]
    },
    {
      "cell_type": "code",
      "source": [
        "# Bài 2. Tính diện tích và chu vi hình tròn\n",
        "\n",
        "# Nhap du lieu\n",
        "r = int(input(\"Nhap ban kinh R: \"))\n",
        "\n",
        "# Gan bien\n",
        "pi = 3.14\n",
        "\n",
        "# In ra ket qua\n",
        "print(\"Dien tich S = \", pi * r ** 2)\n",
        "print(\"Chu_vi P = \", round(2 * pi * r, 1))\n",
        "\n"
      ],
      "metadata": {
        "colab": {
          "base_uri": "https://localhost:8080/"
        },
        "id": "ZqjwbvSj6jOU",
        "outputId": "af9d0155-dd35-421d-cd6d-220f13e7ff58"
      },
      "execution_count": 12,
      "outputs": [
        {
          "output_type": "stream",
          "name": "stdout",
          "text": [
            "Nhap ban kinh R: 5\n",
            "Dien tich S =  78.5\n",
            "Chu_vi P =  31.4\n"
          ]
        }
      ]
    },
    {
      "cell_type": "code",
      "source": [
        "# Bài 3. Đổi sang giây\n",
        "\n",
        "# Nhap du lieu\n",
        "h = int(input(\"Nhap so gio: \"))\n",
        "s = int(input(\"Nhap so giay: \"))\n",
        "m = int(input(\"Nhap so phut: \"))\n",
        "\n",
        "# Chuyen doi\n",
        "hours_giay = h * 3600\n",
        "minute_giay = m * 60\n",
        "tong_so_giay = hours_giay + minute_giay + m\n",
        "\n",
        "# In ra ket qua\n",
        "print(\"Tong so giay cua \" + str(h) + \":\" + str(s) + \":\" + str(m) + \" la \" + str(tong_so_giay) + \" giay\")\n",
        "\n"
      ],
      "metadata": {
        "colab": {
          "base_uri": "https://localhost:8080/"
        },
        "id": "a_m6Qs_w8UhV",
        "outputId": "35c86879-8e68-44ff-e92a-b78c4b018010"
      },
      "execution_count": 17,
      "outputs": [
        {
          "output_type": "stream",
          "name": "stdout",
          "text": [
            "Nhap so gio: 1\n",
            "Nhap so giay: 20\n",
            "Nhap so phut: 10\n",
            "Tong so giay cua 1:20:10 la 4210 giay\n"
          ]
        }
      ]
    },
    {
      "cell_type": "code",
      "source": [
        "# Bài 4. Đổi sang giờ phút giây\n",
        "s = int(input(\"Nhap vao tong so giay \"))\n",
        "\n"
      ],
      "metadata": {
        "id": "kjBp7vzCCPpb"
      },
      "execution_count": null,
      "outputs": []
    }
  ]
}